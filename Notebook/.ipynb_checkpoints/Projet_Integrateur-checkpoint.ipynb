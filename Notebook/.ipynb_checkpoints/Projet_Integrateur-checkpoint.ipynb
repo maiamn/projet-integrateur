{
 "cells": [
  {
   "cell_type": "markdown",
   "id": "f53784a4",
   "metadata": {},
   "source": [
    "listevalpartition.csv: Recommended partitioning of images into training, validation, testing sets. \n",
    "\n",
    "Images 1-162770 are training, 162771-182637 are validation, 182638-202599 are testing"
   ]
  },
  {
   "cell_type": "code",
   "execution_count": 1,
   "id": "f06fdebf",
   "metadata": {},
   "outputs": [],
   "source": [
    "import numpy as np\n",
    "import csv\n",
    "\n",
    "def load_repartition_from_csv(fname):\n",
    "        \n",
    "    data = np.genfromtxt(fname, dtype=str, skip_header=1, delimiter=\",\")\n",
    "    data = data[:,0]\n",
    "    \n",
    "    training = data[0:162770]\n",
    "    validation = data[162770:182637]\n",
    "    testing = data[182637:202599]\n",
    "    \n",
    "    #print(training[0])\n",
    "    #print(training[-1])\n",
    "    \n",
    "    #print(validation[0])\n",
    "    #print(validation[-1])\n",
    "    \n",
    "    #print(testing[0])\n",
    "    #print(testing[-1])\n",
    "    \n",
    "    return training, validation, testing"
   ]
  },
  {
   "cell_type": "code",
   "execution_count": 3,
   "id": "0756d796",
   "metadata": {},
   "outputs": [
    {
     "name": "stdout",
     "output_type": "stream",
     "text": [
      "[3, 11, 15]\n"
     ]
    }
   ],
   "source": [
    "att_to_crop = [\"Attractive\",\"Blurry\",\"Double_Chin\"]\n",
    "index_to_crop = []\n",
    "data = np.genfromtxt(\"./archive/list_attr_celeba.csv\", dtype=str, delimiter=\",\")\n",
    "#print(data[0])\n",
    "\n",
    "for i in range(len(data[0])):\n",
    "    for a in att_to_crop:\n",
    "        if data[0][i] == a :\n",
    "            index_to_crop.append(i)\n",
    "            \n",
    "print(index_to_crop)"
   ]
  },
  {
   "cell_type": "code",
   "execution_count": 19,
   "id": "dc19ba37",
   "metadata": {},
   "outputs": [
    {
     "data": {
      "text/plain": [
       "'Eyeglasses'"
      ]
     },
     "execution_count": 19,
     "metadata": {},
     "output_type": "execute_result"
    }
   ],
   "source": [
    "data[:,16][0]"
   ]
  },
  {
   "cell_type": "code",
   "execution_count": 21,
   "id": "e9bee293",
   "metadata": {},
   "outputs": [
    {
     "name": "stdout",
     "output_type": "stream",
     "text": [
      "['image_id' '5_o_Clock_Shadow' 'Bags_Under_Eyes' 'Bald' 'Bangs' 'Big_Lips'\n",
      " 'Big_Nose' 'Black_Hair' 'Blond_Hair' 'Brown_Hair' 'Bushy_Eyebrows'\n",
      " 'Chubby' 'Eyeglasses' 'Goatee' 'Gray_Hair' 'Heavy_Makeup'\n",
      " 'High_Cheekbones' 'Male' 'Mouth_Slightly_Open' 'Mustache' 'Narrow_Eyes'\n",
      " 'No_Beard' 'Oval_Face' 'Pale_Skin' 'Pointy_Nose' 'Receding_Hairline'\n",
      " 'Rosy_Cheeks' 'Sideburns' 'Smiling' 'Straight_Hair' 'Wavy_Hair'\n",
      " 'Wearing_Earrings' 'Wearing_Hat' 'Wearing_Lipstick' 'Wearing_Necklace'\n",
      " 'Wearing_Necktie' 'Young']\n"
     ]
    }
   ],
   "source": [
    "data1 = data[:,0:2]\n",
    "data2 = data[:,4:11]\n",
    "data3 = data[:,12:15]\n",
    "data4 = data[:,16:]\n",
    "\n",
    "newdata = np.concatenate((data1,data2,data3,data4), axis=1)\n",
    "labels = newdata[0]\n",
    "print(labels)"
   ]
  },
  {
   "cell_type": "code",
   "execution_count": 23,
   "id": "4426518e",
   "metadata": {},
   "outputs": [
    {
     "data": {
      "text/plain": [
       "'image_id'"
      ]
     },
     "execution_count": 23,
     "metadata": {},
     "output_type": "execute_result"
    }
   ],
   "source": [
    "labels[0]"
   ]
  },
  {
   "cell_type": "code",
   "execution_count": 25,
   "id": "8faf2fee",
   "metadata": {},
   "outputs": [
    {
     "ename": "AttributeError",
     "evalue": "'dict' object has no attribute 'append'",
     "output_type": "error",
     "traceback": [
      "\u001b[1;31m---------------------------------------------------------------------------\u001b[0m",
      "\u001b[1;31mAttributeError\u001b[0m                            Traceback (most recent call last)",
      "\u001b[1;32m~\\AppData\\Local\\Temp/ipykernel_1856/2829939097.py\u001b[0m in \u001b[0;36m<module>\u001b[1;34m\u001b[0m\n\u001b[0;32m      1\u001b[0m \u001b[0mentry\u001b[0m \u001b[1;33m=\u001b[0m \u001b[1;33m{\u001b[0m\u001b[1;33m}\u001b[0m\u001b[1;33m\u001b[0m\u001b[1;33m\u001b[0m\u001b[0m\n\u001b[1;32m----> 2\u001b[1;33m \u001b[0mentry\u001b[0m\u001b[1;33m.\u001b[0m\u001b[0mappend\u001b[0m\u001b[1;33m(\u001b[0m\u001b[1;33m{\u001b[0m\u001b[1;34m\"tata\"\u001b[0m\u001b[1;33m:\u001b[0m\u001b[1;36m10\u001b[0m\u001b[1;33m,\u001b[0m \u001b[1;34m\"toto\"\u001b[0m\u001b[1;33m:\u001b[0m \u001b[1;36m20\u001b[0m\u001b[1;33m}\u001b[0m\u001b[1;33m)\u001b[0m\u001b[1;33m\u001b[0m\u001b[1;33m\u001b[0m\u001b[0m\n\u001b[0m",
      "\u001b[1;31mAttributeError\u001b[0m: 'dict' object has no attribute 'append'"
     ]
    }
   ],
   "source": [
    "entry = {}"
   ]
  },
  {
   "cell_type": "code",
   "execution_count": 26,
   "id": "524c82ac",
   "metadata": {},
   "outputs": [
    {
     "data": {
      "text/html": [
       "<div>\n",
       "<style scoped>\n",
       "    .dataframe tbody tr th:only-of-type {\n",
       "        vertical-align: middle;\n",
       "    }\n",
       "\n",
       "    .dataframe tbody tr th {\n",
       "        vertical-align: top;\n",
       "    }\n",
       "\n",
       "    .dataframe thead th {\n",
       "        text-align: right;\n",
       "    }\n",
       "</style>\n",
       "<table border=\"1\" class=\"dataframe\">\n",
       "  <thead>\n",
       "    <tr style=\"text-align: right;\">\n",
       "      <th></th>\n",
       "      <th>image_id</th>\n",
       "      <th>5_o_Clock_Shadow</th>\n",
       "      <th>Bags_Under_Eyes</th>\n",
       "      <th>Bald</th>\n",
       "      <th>Bangs</th>\n",
       "      <th>Big_Lips</th>\n",
       "      <th>Big_Nose</th>\n",
       "      <th>Black_Hair</th>\n",
       "      <th>Blond_Hair</th>\n",
       "      <th>Brown_Hair</th>\n",
       "      <th>...</th>\n",
       "      <th>Smiling</th>\n",
       "      <th>Straight_Hair</th>\n",
       "      <th>Wavy_Hair</th>\n",
       "      <th>Wearing_Earrings</th>\n",
       "      <th>Wearing_Hat</th>\n",
       "      <th>Wearing_Lipstick</th>\n",
       "      <th>Wearing_Necklace</th>\n",
       "      <th>Wearing_Necktie</th>\n",
       "      <th>Young</th>\n",
       "      <th>Arched_Eyebrows</th>\n",
       "    </tr>\n",
       "  </thead>\n",
       "  <tbody>\n",
       "    <tr>\n",
       "      <th>0</th>\n",
       "      <td>000001.jpg</td>\n",
       "      <td>-1</td>\n",
       "      <td>-1</td>\n",
       "      <td>-1</td>\n",
       "      <td>-1</td>\n",
       "      <td>-1</td>\n",
       "      <td>-1</td>\n",
       "      <td>-1</td>\n",
       "      <td>-1</td>\n",
       "      <td>1</td>\n",
       "      <td>...</td>\n",
       "      <td>1</td>\n",
       "      <td>1</td>\n",
       "      <td>-1</td>\n",
       "      <td>1</td>\n",
       "      <td>-1</td>\n",
       "      <td>1</td>\n",
       "      <td>-1</td>\n",
       "      <td>-1</td>\n",
       "      <td>1</td>\n",
       "      <td>-1</td>\n",
       "    </tr>\n",
       "    <tr>\n",
       "      <th>1</th>\n",
       "      <td>000002.jpg</td>\n",
       "      <td>-1</td>\n",
       "      <td>1</td>\n",
       "      <td>-1</td>\n",
       "      <td>-1</td>\n",
       "      <td>-1</td>\n",
       "      <td>1</td>\n",
       "      <td>-1</td>\n",
       "      <td>-1</td>\n",
       "      <td>1</td>\n",
       "      <td>...</td>\n",
       "      <td>1</td>\n",
       "      <td>-1</td>\n",
       "      <td>-1</td>\n",
       "      <td>-1</td>\n",
       "      <td>-1</td>\n",
       "      <td>-1</td>\n",
       "      <td>-1</td>\n",
       "      <td>-1</td>\n",
       "      <td>1</td>\n",
       "      <td>-1</td>\n",
       "    </tr>\n",
       "    <tr>\n",
       "      <th>2</th>\n",
       "      <td>000003.jpg</td>\n",
       "      <td>-1</td>\n",
       "      <td>-1</td>\n",
       "      <td>-1</td>\n",
       "      <td>-1</td>\n",
       "      <td>1</td>\n",
       "      <td>-1</td>\n",
       "      <td>-1</td>\n",
       "      <td>-1</td>\n",
       "      <td>-1</td>\n",
       "      <td>...</td>\n",
       "      <td>-1</td>\n",
       "      <td>-1</td>\n",
       "      <td>1</td>\n",
       "      <td>-1</td>\n",
       "      <td>-1</td>\n",
       "      <td>-1</td>\n",
       "      <td>-1</td>\n",
       "      <td>-1</td>\n",
       "      <td>1</td>\n",
       "      <td>-1</td>\n",
       "    </tr>\n",
       "    <tr>\n",
       "      <th>3</th>\n",
       "      <td>000004.jpg</td>\n",
       "      <td>-1</td>\n",
       "      <td>-1</td>\n",
       "      <td>-1</td>\n",
       "      <td>-1</td>\n",
       "      <td>-1</td>\n",
       "      <td>-1</td>\n",
       "      <td>-1</td>\n",
       "      <td>-1</td>\n",
       "      <td>-1</td>\n",
       "      <td>...</td>\n",
       "      <td>-1</td>\n",
       "      <td>1</td>\n",
       "      <td>-1</td>\n",
       "      <td>1</td>\n",
       "      <td>-1</td>\n",
       "      <td>1</td>\n",
       "      <td>1</td>\n",
       "      <td>-1</td>\n",
       "      <td>1</td>\n",
       "      <td>-1</td>\n",
       "    </tr>\n",
       "    <tr>\n",
       "      <th>4</th>\n",
       "      <td>000005.jpg</td>\n",
       "      <td>-1</td>\n",
       "      <td>-1</td>\n",
       "      <td>-1</td>\n",
       "      <td>-1</td>\n",
       "      <td>1</td>\n",
       "      <td>-1</td>\n",
       "      <td>-1</td>\n",
       "      <td>-1</td>\n",
       "      <td>-1</td>\n",
       "      <td>...</td>\n",
       "      <td>-1</td>\n",
       "      <td>-1</td>\n",
       "      <td>-1</td>\n",
       "      <td>-1</td>\n",
       "      <td>-1</td>\n",
       "      <td>1</td>\n",
       "      <td>-1</td>\n",
       "      <td>-1</td>\n",
       "      <td>1</td>\n",
       "      <td>-1</td>\n",
       "    </tr>\n",
       "  </tbody>\n",
       "</table>\n",
       "<p>5 rows × 38 columns</p>\n",
       "</div>"
      ],
      "text/plain": [
       "     image_id 5_o_Clock_Shadow Bags_Under_Eyes Bald Bangs Big_Lips Big_Nose  \\\n",
       "0  000001.jpg               -1              -1   -1    -1       -1       -1   \n",
       "1  000002.jpg               -1               1   -1    -1       -1        1   \n",
       "2  000003.jpg               -1              -1   -1    -1        1       -1   \n",
       "3  000004.jpg               -1              -1   -1    -1       -1       -1   \n",
       "4  000005.jpg               -1              -1   -1    -1        1       -1   \n",
       "\n",
       "  Black_Hair Blond_Hair Brown_Hair  ... Smiling Straight_Hair Wavy_Hair  \\\n",
       "0         -1         -1          1  ...       1             1        -1   \n",
       "1         -1         -1          1  ...       1            -1        -1   \n",
       "2         -1         -1         -1  ...      -1            -1         1   \n",
       "3         -1         -1         -1  ...      -1             1        -1   \n",
       "4         -1         -1         -1  ...      -1            -1        -1   \n",
       "\n",
       "  Wearing_Earrings Wearing_Hat Wearing_Lipstick Wearing_Necklace  \\\n",
       "0                1          -1                1               -1   \n",
       "1               -1          -1               -1               -1   \n",
       "2               -1          -1               -1               -1   \n",
       "3                1          -1                1                1   \n",
       "4               -1          -1                1               -1   \n",
       "\n",
       "  Wearing_Necktie Young Arched_Eyebrows  \n",
       "0              -1     1              -1  \n",
       "1              -1     1              -1  \n",
       "2              -1     1              -1  \n",
       "3              -1     1              -1  \n",
       "4              -1     1              -1  \n",
       "\n",
       "[5 rows x 38 columns]"
      ]
     },
     "execution_count": 26,
     "metadata": {},
     "output_type": "execute_result"
    }
   ],
   "source": [
    "import pandas as pd\n",
    "\n",
    "myDataframe = pd.DataFrame(columns=labels)\n",
    "\n",
    "for i in range(1,1000):\n",
    "    for j in range(len(labels)):\n",
    "        new_entry[labels[j]] = newdata[i][j]\n",
    "    '''\n",
    "    new_entry = {\n",
    "        \"image_id\": newdata[i][0],\n",
    "        \"5_o_Clock_Shadow\": newdata[i][1], \n",
    "        \"Arched_Eyebrows\": newdata[i][2],\n",
    "        \"Bags_Under_Eyes\": newdata[i][3],\n",
    "        \"Bald\": newdata[i][4],\n",
    "        \"Bangs\": newdata[i][5],\n",
    "        \"Big_Lips\": newdata[i][6],\n",
    "        \"Big_Nose\": newdata[i][7],\n",
    "        \"Black_Hair\": newdata[i][8],\n",
    "        \"Blond_Hair\": newdata[i][9],\n",
    "        \"Eyeglasses\" : newdata[i][10],\n",
    "        \"Goatee\": newdata[i][11],\n",
    "        \"Gray_Hair\": newdata[i][12],\n",
    "        \"Heavy_Makeup\": newdata[i][13],\n",
    "        \"High_Cheekbones\": newdata[i][14],\n",
    "        \"Male\": newdata[i][15],\n",
    "        \"Mouth_Slightly_Open\": newdata[i][16],\n",
    "        \"Mustache\": newdata[i][17],\n",
    "        \"Narrow_Eyes\": newdata[i][18],\n",
    "        \"No_Beard\": newdata[i][19],\n",
    "        \"Oval_Face\": newdata[i][20],\n",
    "        \"Pale_Skin\": newdata[i][21],\n",
    "        \"Pointy_Nose\": newdata[i][22],\n",
    "        \"Receding_Hairline\": newdata[i][23],\n",
    "        \"Rosy_Cheeks\": newdata[i][24], \n",
    "        \"Sideburns\": newdata[i][25],\n",
    "        \"Smiling\": newdata[i][26],\n",
    "        \"Straight_Hair\": newdata[i][27],\n",
    "        \"Wavy_Hair\": newdata[i][28],\n",
    "        \"Wearing_Earrings\": newdata[i][29],\n",
    "        \"Wearing_Hat\": newdata[i][30],\n",
    "        \"Wearing_Lipstick\": newdata[i][31],\n",
    "        \"Wearing_Necklace\": newdata[i][32],\n",
    "        \"Wearing_Necktie\": newdata[i][33],\n",
    "        \"Young\": newdata[i][34]\n",
    "        }'''\n",
    "    myDataframe = myDataframe.append(new_entry, ignore_index=True)\n",
    "\n",
    "\n",
    "myDataframe.sort_values(by=\"image_id\").head()"
   ]
  },
  {
   "cell_type": "code",
   "execution_count": 6,
   "id": "498d1e9e",
   "metadata": {},
   "outputs": [],
   "source": [
    "from sklearn import tree\n",
    "from matplotlib import pyplot as plt # for a good visualization of the trees \n",
    "\n",
    "import csv\n",
    "import numpy as np\n",
    "\n",
    "from sklearn.model_selection import train_test_split\n",
    "\n",
    "from random import randint"
   ]
  },
  {
   "cell_type": "code",
   "execution_count": 8,
   "id": "f229bb50",
   "metadata": {},
   "outputs": [
    {
     "name": "stdout",
     "output_type": "stream",
     "text": [
      "[633, 359, 616, 518, 972, 435, 704, 64, 901, 489, 878, 446, 980, 385, 601, 797, 519, 527, 236, 594]\n"
     ]
    }
   ],
   "source": [
    "randomIndexes = []\n",
    "\n",
    "for i in range(20):\n",
    "    r = randint(0,999)\n",
    "    randomIndexes.append(r)\n",
    "print(randomIndexes)"
   ]
  },
  {
   "cell_type": "code",
   "execution_count": null,
   "id": "981d8993",
   "metadata": {},
   "outputs": [],
   "source": [
    "questions = [\n",
    "    (\"Is it a boy?\", 15),\n",
    "    (\"Are they young?\", 34),\n",
    "    (\"Do they wear a tie?\", 33),\n",
    "    (\"Do they wear a necklace?\", 32),\n",
    "    ()\n",
    "]"
   ]
  }
 ],
 "metadata": {
  "kernelspec": {
   "display_name": "Python 3 (ipykernel)",
   "language": "python",
   "name": "python3"
  },
  "language_info": {
   "codemirror_mode": {
    "name": "ipython",
    "version": 3
   },
   "file_extension": ".py",
   "mimetype": "text/x-python",
   "name": "python",
   "nbconvert_exporter": "python",
   "pygments_lexer": "ipython3",
   "version": "3.8.8"
  }
 },
 "nbformat": 4,
 "nbformat_minor": 5
}
