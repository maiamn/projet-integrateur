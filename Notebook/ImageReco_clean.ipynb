{
 "cells": [
  {
   "cell_type": "markdown",
   "metadata": {},
   "source": [
    "# Algorithme de reconnaissance d'image"
   ]
  },
  {
   "cell_type": "code",
   "execution_count": 272,
   "metadata": {},
   "outputs": [],
   "source": [
    "#pip freeze > requirements.txt"
   ]
  },
  {
   "cell_type": "code",
   "execution_count": 271,
   "metadata": {},
   "outputs": [
    {
     "name": "stdout",
     "output_type": "stream",
     "text": [
      "Processing c:\\ci\\aiohttp_1632750093640\\work\n",
      "Note: you may need to restart the kernel to use updated packages.\n"
     ]
    },
    {
     "name": "stderr",
     "output_type": "stream",
     "text": [
      "ERROR: Could not install packages due to an OSError: [Errno 2] No such file or directory: 'C:\\\\ci\\\\aiohttp_1632750093640\\\\work'\n",
      "\n",
      "\n",
      "[notice] A new release of pip available: 22.2.2 -> 22.3.1\n",
      "[notice] To update, run: python.exe -m pip install --upgrade pip\n"
     ]
    }
   ],
   "source": [
    "#pip install -r requirements.txt"
   ]
  },
  {
   "cell_type": "code",
   "execution_count": 2,
   "metadata": {},
   "outputs": [
    {
     "name": "stdout",
     "output_type": "stream",
     "text": [
      "Collecting coremltoolsNote: you may need to restart the kernel to use updated packages.\n",
      "  Downloading coremltools-6.1.tar.gz (882 kB)\n",
      "     -------------------------------------- 882.2/882.2 kB 2.5 MB/s eta 0:00:00\n",
      "  Preparing metadata (setup.py): started\n",
      "  Preparing metadata (setup.py): finished with status 'done'\n",
      "Requirement already satisfied: numpy>=1.14.5 in c:\\users\\fifid\\anaconda3\\lib\\site-packages (from coremltools) (1.21.2)\n",
      "Requirement already satisfied: protobuf<=4.0.0,>=3.1.0 in c:\\users\\fifid\\anaconda3\\lib\\site-packages (from coremltools) (3.19.6)\n",
      "Requirement already satisfied: sympy in c:\\users\\fifid\\anaconda3\\lib\\site-packages (from coremltools) (1.8)\n"
     ]
    },
    {
     "name": "stderr",
     "output_type": "stream",
     "text": [
      "\n",
      "[notice] A new release of pip available: 22.2.2 -> 22.3.1\n",
      "[notice] To update, run: python.exe -m pip install --upgrade pip\n"
     ]
    },
    {
     "name": "stdout",
     "output_type": "stream",
     "text": [
      "\n",
      "Requirement already satisfied: tqdm in c:\\users\\fifid\\anaconda3\\lib\\site-packages (from coremltools) (4.62.2)\n",
      "Requirement already satisfied: packaging in c:\\users\\fifid\\anaconda3\\lib\\site-packages (from coremltools) (21.0)\n",
      "Requirement already satisfied: pyparsing>=2.0.2 in c:\\users\\fifid\\anaconda3\\lib\\site-packages (from packaging->coremltools) (2.4.7)\n",
      "Requirement already satisfied: mpmath>=0.19 in c:\\users\\fifid\\anaconda3\\lib\\site-packages (from sympy->coremltools) (1.2.1)\n",
      "Requirement already satisfied: colorama in c:\\users\\fifid\\anaconda3\\lib\\site-packages (from tqdm->coremltools) (0.4.4)\n",
      "Building wheels for collected packages: coremltools\n",
      "  Building wheel for coremltools (setup.py): started\n",
      "  Building wheel for coremltools (setup.py): finished with status 'done'\n",
      "  Created wheel for coremltools: filename=coremltools-6.1-py3-none-any.whl size=1181394 sha256=df65bb4cfeb46cdff85b6abbc8e05a6cee5ebc536aa94463669b84300e591751\n",
      "  Stored in directory: c:\\users\\fifid\\appdata\\local\\pip\\cache\\wheels\\99\\ee\\ce\\eefc6b284a2999bd688ec5663be3c2dc367a306cf23bb15d87\n",
      "Successfully built coremltools\n",
      "Installing collected packages: coremltools\n",
      "Successfully installed coremltools-6.1\n"
     ]
    }
   ],
   "source": [
    "#pip install coremltools"
   ]
  },
  {
   "cell_type": "code",
   "execution_count": 7,
   "metadata": {},
   "outputs": [
    {
     "name": "stdout",
     "output_type": "stream",
     "text": [
      "Requirement already satisfied: keras_preprocessing in c:\\users\\fifid\\anaconda3\\lib\\site-packages (1.1.2)Note: you may need to restart the kernel to use updated packages.\n",
      "Collecting livelossplot\n",
      "  Downloading livelossplot-0.5.5-py3-none-any.whl (22 kB)\n",
      "Requirement already satisfied: numpy>=1.9.1 in c:\\users\\fifid\\anaconda3\\lib\\site-packages (from keras_preprocessing) (1.21.2)\n",
      "Requirement already satisfied: six>=1.9.0 in c:\\users\\fifid\\anaconda3\\lib\\site-packages (from keras_preprocessing) (1.16.0)\n",
      "Requirement already satisfied: matplotlib in c:\\users\\fifid\\anaconda3\\lib\\site-packages (from livelossplot) (3.4.2)\n",
      "Requirement already satisfied: bokeh in c:\\users\\fifid\\anaconda3\\lib\\site-packages (from livelossplot) (2.3.3)\n",
      "Requirement already satisfied: typing-extensions>=3.7.4 in c:\\users\\fifid\\anaconda3\\lib\\site-packages (from bokeh->livelossplot) (3.10.0.2)\n",
      "Requirement already satisfied: pillow>=7.1.0 in c:\\users\\fifid\\anaconda3\\lib\\site-packages (from bokeh->livelossplot) (8.3.1)\n",
      "Requirement already satisfied: packaging>=16.8 in c:\\users\\fifid\\anaconda3\\lib\\site-packages (from bokeh->livelossplot) (21.0)\n",
      "Requirement already satisfied: PyYAML>=3.10 in c:\\users\\fifid\\anaconda3\\lib\\site-packages (from bokeh->livelossplot) (5.4.1)\n",
      "Requirement already satisfied: tornado>=5.1 in c:\\users\\fifid\\anaconda3\\lib\\site-packages (from bokeh->livelossplot) (6.1)\n",
      "Requirement already satisfied: python-dateutil>=2.1 in c:\\users\\fifid\\anaconda3\\lib\\site-packages (from bokeh->livelossplot) (2.8.2)\n",
      "\n"
     ]
    },
    {
     "name": "stderr",
     "output_type": "stream",
     "text": [
      "\n",
      "[notice] A new release of pip available: 22.2.2 -> 22.3.1\n",
      "[notice] To update, run: python.exe -m pip install --upgrade pip\n"
     ]
    },
    {
     "name": "stdout",
     "output_type": "stream",
     "text": [
      "Requirement already satisfied: Jinja2>=2.9 in c:\\users\\fifid\\anaconda3\\lib\\site-packages (from bokeh->livelossplot) (2.11.3)\n",
      "Requirement already satisfied: pyparsing>=2.2.1 in c:\\users\\fifid\\anaconda3\\lib\\site-packages (from matplotlib->livelossplot) (2.4.7)\n",
      "Requirement already satisfied: kiwisolver>=1.0.1 in c:\\users\\fifid\\anaconda3\\lib\\site-packages (from matplotlib->livelossplot) (1.3.1)\n",
      "Requirement already satisfied: cycler>=0.10 in c:\\users\\fifid\\anaconda3\\lib\\site-packages (from matplotlib->livelossplot) (0.10.0)\n",
      "Requirement already satisfied: MarkupSafe>=0.23 in c:\\users\\fifid\\anaconda3\\lib\\site-packages (from Jinja2>=2.9->bokeh->livelossplot) (2.0.1)\n",
      "Installing collected packages: livelossplot\n",
      "Successfully installed livelossplot-0.5.5\n"
     ]
    }
   ],
   "source": [
    "#pip install keras_preprocessing livelossplot"
   ]
  },
  {
   "cell_type": "markdown",
   "metadata": {},
   "source": [
    "# Packages nécessaires"
   ]
  },
  {
   "cell_type": "code",
   "execution_count": 168,
   "metadata": {},
   "outputs": [],
   "source": [
    "import os\n",
    "import pandas as pd\n",
    "import string\n",
    "import random\n",
    "import matplotlib\n",
    "import numpy as np\n",
    "#import coremltools\n",
    "import matplotlib.pyplot as plt\n",
    "import matplotlib.image as mpimg\n",
    "%matplotlib inline\n",
    "from keras import backend as K\n",
    "from ast import literal_eval\n",
    "from sklearn.utils import class_weight\n",
    "from keras.models import Sequential\n",
    "from keras.models import load_model\n",
    "from keras.metrics import top_k_categorical_accuracy\n",
    "from keras.callbacks import ModelCheckpoint\n",
    "from keras_preprocessing.image import ImageDataGenerator\n",
    "from keras.layers import Dense, Activation, Flatten, Dropout, BatchNormalization, GlobalAveragePooling2D\n",
    "from keras.layers import Conv2D, MaxPooling2D\n",
    "from keras import regularizers, optimizers\n",
    "from livelossplot import PlotLossesKeras\n",
    "from keras.applications.mobilenet_v2 import MobileNetV2, preprocess_input\n",
    "import PIL\n",
    "import os\n",
    "import os.path\n",
    "from PIL import Image\n",
    "from keras.preprocessing.image import ImageDataGenerator\n",
    "from keras.applications.vgg16 import preprocess_input\n",
    "from tensorflow.keras.utils import load_img\n",
    "from tensorflow.keras.utils import img_to_array"
   ]
  },
  {
   "cell_type": "markdown",
   "metadata": {},
   "source": [
    "# Caractéristiques du modèle"
   ]
  },
  {
   "cell_type": "code",
   "execution_count": 287,
   "metadata": {},
   "outputs": [],
   "source": [
    "dir_images = 'Ressources_Test'\n",
    "# Download dataset from https://www.kaggle.com/greg115/various-tagged-images\n",
    "DATASET_PATH = dir_images +'\\img_align_celeba\\img_align_celeba' # Directory of the images with the following format \"id-tag1_tag2.jpg\"\n",
    "METADATA_PATH = dir_images +'\\list_attr_celeba.csv' #modif\n",
    "SPLIT_PATH = dir_images +'\\list_eval_partition.csv'\n",
    "MODEL_PATH = \"saved_model/cp.h5\"\n",
    "IMAGE_PATH_KEY = \"image_path\"\n",
    "TAGS_PATH_KEY = \"tags\"\n",
    "NB_SELECTED = 1000\n",
    "#MODEL_PATH = r\"C:\\Users\\fifid\\Documents\\GitHub\\projet-integrateur\\Notebook\\image_tagger.hdf5\"\n",
    "IMAGE_SIZE = 224 # pas modif car sinon pb avec fully connected\n",
    "BATCH_SIZE = 16 #nb d'images en entrée du réseau en même temps\n",
    "#VALIDATION_SPLIT = 0.1 # a modif\n",
    "RANDOM_SEED = 115\n",
    "EPOCHS = 100 #combien de fois on visualise l'ensemble des images du dataset, au moins 100\n",
    "DROPOUT = 0.3 #0.2 ou 0.3\n",
    "FULLY_CONNECTED = 1024\n",
    "LEARNING_RATE = 0.0001\n",
    "LEARNING_RATE_DECAY = LEARNING_RATE/100.0\n",
    "CONFIDENCE_THRESHOLD = 0.9\n",
    "excluded_labels = [\"Arched_Eyebrows\",\"Attractive\",\"Blurry\",\"Double_Chin\",\"Narrow_Eyes\"]"
   ]
  },
  {
   "cell_type": "markdown",
   "metadata": {},
   "source": [
    "# Resize des images"
   ]
  },
  {
   "cell_type": "code",
   "execution_count": 288,
   "metadata": {},
   "outputs": [],
   "source": [
    "f = DATASET_PATH\n",
    "for file in os.listdir(f):\n",
    "    f_img = f+\"/\"+file\n",
    "    img = Image.open(f_img)\n",
    "    img = img.resize((224,224))\n",
    "    img.save(f_img)"
   ]
  },
  {
   "cell_type": "markdown",
   "metadata": {},
   "source": [
    "# Load les datas"
   ]
  },
  {
   "cell_type": "markdown",
   "metadata": {},
   "source": [
    "On se sert des recommandations sur le dataset : \n",
    "\n",
    "    \"Recommended partitioning of the images into training, validation, testing sets. \"0\" represents training image, \"1\" represents validation image, \"2\" represents testing image. Images 1-162770 are training, 162771-182637 are validation, 182638-202599 are testing\"\n",
    "    \n",
    "On utilise le fichier indiquant la répartition pour splitter les données."
   ]
  },
  {
   "cell_type": "code",
   "execution_count": 289,
   "metadata": {},
   "outputs": [],
   "source": [
    "df_old = pd.read_csv(METADATA_PATH, nrows=NB_SELECTED)\n",
    "split_df = pd.read_csv(SPLIT_PATH, nrows=NB_SELECTED)"
   ]
  },
  {
   "cell_type": "code",
   "execution_count": 290,
   "metadata": {},
   "outputs": [
    {
     "data": {
      "text/html": [
       "<div>\n",
       "<style scoped>\n",
       "    .dataframe tbody tr th:only-of-type {\n",
       "        vertical-align: middle;\n",
       "    }\n",
       "\n",
       "    .dataframe tbody tr th {\n",
       "        vertical-align: top;\n",
       "    }\n",
       "\n",
       "    .dataframe thead th {\n",
       "        text-align: right;\n",
       "    }\n",
       "</style>\n",
       "<table border=\"1\" class=\"dataframe\">\n",
       "  <thead>\n",
       "    <tr style=\"text-align: right;\">\n",
       "      <th></th>\n",
       "      <th>image_id</th>\n",
       "      <th>5_o_Clock_Shadow</th>\n",
       "      <th>Arched_Eyebrows</th>\n",
       "      <th>Attractive</th>\n",
       "      <th>Bags_Under_Eyes</th>\n",
       "      <th>Bald</th>\n",
       "      <th>Bangs</th>\n",
       "      <th>Big_Lips</th>\n",
       "      <th>Big_Nose</th>\n",
       "      <th>Black_Hair</th>\n",
       "      <th>...</th>\n",
       "      <th>Sideburns</th>\n",
       "      <th>Smiling</th>\n",
       "      <th>Straight_Hair</th>\n",
       "      <th>Wavy_Hair</th>\n",
       "      <th>Wearing_Earrings</th>\n",
       "      <th>Wearing_Hat</th>\n",
       "      <th>Wearing_Lipstick</th>\n",
       "      <th>Wearing_Necklace</th>\n",
       "      <th>Wearing_Necktie</th>\n",
       "      <th>Young</th>\n",
       "    </tr>\n",
       "  </thead>\n",
       "  <tbody>\n",
       "    <tr>\n",
       "      <th>0</th>\n",
       "      <td>000001.jpg</td>\n",
       "      <td>-1</td>\n",
       "      <td>1</td>\n",
       "      <td>1</td>\n",
       "      <td>-1</td>\n",
       "      <td>-1</td>\n",
       "      <td>-1</td>\n",
       "      <td>-1</td>\n",
       "      <td>-1</td>\n",
       "      <td>-1</td>\n",
       "      <td>...</td>\n",
       "      <td>-1</td>\n",
       "      <td>1</td>\n",
       "      <td>1</td>\n",
       "      <td>-1</td>\n",
       "      <td>1</td>\n",
       "      <td>-1</td>\n",
       "      <td>1</td>\n",
       "      <td>-1</td>\n",
       "      <td>-1</td>\n",
       "      <td>1</td>\n",
       "    </tr>\n",
       "    <tr>\n",
       "      <th>1</th>\n",
       "      <td>000002.jpg</td>\n",
       "      <td>-1</td>\n",
       "      <td>-1</td>\n",
       "      <td>-1</td>\n",
       "      <td>1</td>\n",
       "      <td>-1</td>\n",
       "      <td>-1</td>\n",
       "      <td>-1</td>\n",
       "      <td>1</td>\n",
       "      <td>-1</td>\n",
       "      <td>...</td>\n",
       "      <td>-1</td>\n",
       "      <td>1</td>\n",
       "      <td>-1</td>\n",
       "      <td>-1</td>\n",
       "      <td>-1</td>\n",
       "      <td>-1</td>\n",
       "      <td>-1</td>\n",
       "      <td>-1</td>\n",
       "      <td>-1</td>\n",
       "      <td>1</td>\n",
       "    </tr>\n",
       "    <tr>\n",
       "      <th>2</th>\n",
       "      <td>000003.jpg</td>\n",
       "      <td>-1</td>\n",
       "      <td>-1</td>\n",
       "      <td>-1</td>\n",
       "      <td>-1</td>\n",
       "      <td>-1</td>\n",
       "      <td>-1</td>\n",
       "      <td>1</td>\n",
       "      <td>-1</td>\n",
       "      <td>-1</td>\n",
       "      <td>...</td>\n",
       "      <td>-1</td>\n",
       "      <td>-1</td>\n",
       "      <td>-1</td>\n",
       "      <td>1</td>\n",
       "      <td>-1</td>\n",
       "      <td>-1</td>\n",
       "      <td>-1</td>\n",
       "      <td>-1</td>\n",
       "      <td>-1</td>\n",
       "      <td>1</td>\n",
       "    </tr>\n",
       "    <tr>\n",
       "      <th>3</th>\n",
       "      <td>000004.jpg</td>\n",
       "      <td>-1</td>\n",
       "      <td>-1</td>\n",
       "      <td>1</td>\n",
       "      <td>-1</td>\n",
       "      <td>-1</td>\n",
       "      <td>-1</td>\n",
       "      <td>-1</td>\n",
       "      <td>-1</td>\n",
       "      <td>-1</td>\n",
       "      <td>...</td>\n",
       "      <td>-1</td>\n",
       "      <td>-1</td>\n",
       "      <td>1</td>\n",
       "      <td>-1</td>\n",
       "      <td>1</td>\n",
       "      <td>-1</td>\n",
       "      <td>1</td>\n",
       "      <td>1</td>\n",
       "      <td>-1</td>\n",
       "      <td>1</td>\n",
       "    </tr>\n",
       "    <tr>\n",
       "      <th>4</th>\n",
       "      <td>000005.jpg</td>\n",
       "      <td>-1</td>\n",
       "      <td>1</td>\n",
       "      <td>1</td>\n",
       "      <td>-1</td>\n",
       "      <td>-1</td>\n",
       "      <td>-1</td>\n",
       "      <td>1</td>\n",
       "      <td>-1</td>\n",
       "      <td>-1</td>\n",
       "      <td>...</td>\n",
       "      <td>-1</td>\n",
       "      <td>-1</td>\n",
       "      <td>-1</td>\n",
       "      <td>-1</td>\n",
       "      <td>-1</td>\n",
       "      <td>-1</td>\n",
       "      <td>1</td>\n",
       "      <td>-1</td>\n",
       "      <td>-1</td>\n",
       "      <td>1</td>\n",
       "    </tr>\n",
       "    <tr>\n",
       "      <th>...</th>\n",
       "      <td>...</td>\n",
       "      <td>...</td>\n",
       "      <td>...</td>\n",
       "      <td>...</td>\n",
       "      <td>...</td>\n",
       "      <td>...</td>\n",
       "      <td>...</td>\n",
       "      <td>...</td>\n",
       "      <td>...</td>\n",
       "      <td>...</td>\n",
       "      <td>...</td>\n",
       "      <td>...</td>\n",
       "      <td>...</td>\n",
       "      <td>...</td>\n",
       "      <td>...</td>\n",
       "      <td>...</td>\n",
       "      <td>...</td>\n",
       "      <td>...</td>\n",
       "      <td>...</td>\n",
       "      <td>...</td>\n",
       "      <td>...</td>\n",
       "    </tr>\n",
       "    <tr>\n",
       "      <th>995</th>\n",
       "      <td>000996.jpg</td>\n",
       "      <td>-1</td>\n",
       "      <td>1</td>\n",
       "      <td>-1</td>\n",
       "      <td>-1</td>\n",
       "      <td>-1</td>\n",
       "      <td>1</td>\n",
       "      <td>-1</td>\n",
       "      <td>-1</td>\n",
       "      <td>-1</td>\n",
       "      <td>...</td>\n",
       "      <td>-1</td>\n",
       "      <td>1</td>\n",
       "      <td>-1</td>\n",
       "      <td>-1</td>\n",
       "      <td>1</td>\n",
       "      <td>-1</td>\n",
       "      <td>1</td>\n",
       "      <td>1</td>\n",
       "      <td>-1</td>\n",
       "      <td>-1</td>\n",
       "    </tr>\n",
       "    <tr>\n",
       "      <th>996</th>\n",
       "      <td>000997.jpg</td>\n",
       "      <td>-1</td>\n",
       "      <td>-1</td>\n",
       "      <td>1</td>\n",
       "      <td>-1</td>\n",
       "      <td>-1</td>\n",
       "      <td>1</td>\n",
       "      <td>-1</td>\n",
       "      <td>-1</td>\n",
       "      <td>-1</td>\n",
       "      <td>...</td>\n",
       "      <td>-1</td>\n",
       "      <td>-1</td>\n",
       "      <td>-1</td>\n",
       "      <td>-1</td>\n",
       "      <td>1</td>\n",
       "      <td>-1</td>\n",
       "      <td>1</td>\n",
       "      <td>-1</td>\n",
       "      <td>-1</td>\n",
       "      <td>-1</td>\n",
       "    </tr>\n",
       "    <tr>\n",
       "      <th>997</th>\n",
       "      <td>000998.jpg</td>\n",
       "      <td>-1</td>\n",
       "      <td>1</td>\n",
       "      <td>1</td>\n",
       "      <td>-1</td>\n",
       "      <td>-1</td>\n",
       "      <td>-1</td>\n",
       "      <td>-1</td>\n",
       "      <td>-1</td>\n",
       "      <td>-1</td>\n",
       "      <td>...</td>\n",
       "      <td>-1</td>\n",
       "      <td>-1</td>\n",
       "      <td>-1</td>\n",
       "      <td>1</td>\n",
       "      <td>-1</td>\n",
       "      <td>-1</td>\n",
       "      <td>1</td>\n",
       "      <td>-1</td>\n",
       "      <td>-1</td>\n",
       "      <td>1</td>\n",
       "    </tr>\n",
       "    <tr>\n",
       "      <th>998</th>\n",
       "      <td>000999.jpg</td>\n",
       "      <td>-1</td>\n",
       "      <td>-1</td>\n",
       "      <td>-1</td>\n",
       "      <td>-1</td>\n",
       "      <td>-1</td>\n",
       "      <td>-1</td>\n",
       "      <td>-1</td>\n",
       "      <td>-1</td>\n",
       "      <td>-1</td>\n",
       "      <td>...</td>\n",
       "      <td>-1</td>\n",
       "      <td>-1</td>\n",
       "      <td>-1</td>\n",
       "      <td>-1</td>\n",
       "      <td>-1</td>\n",
       "      <td>-1</td>\n",
       "      <td>-1</td>\n",
       "      <td>-1</td>\n",
       "      <td>-1</td>\n",
       "      <td>-1</td>\n",
       "    </tr>\n",
       "    <tr>\n",
       "      <th>999</th>\n",
       "      <td>001000.jpg</td>\n",
       "      <td>-1</td>\n",
       "      <td>-1</td>\n",
       "      <td>1</td>\n",
       "      <td>-1</td>\n",
       "      <td>-1</td>\n",
       "      <td>-1</td>\n",
       "      <td>1</td>\n",
       "      <td>-1</td>\n",
       "      <td>-1</td>\n",
       "      <td>...</td>\n",
       "      <td>-1</td>\n",
       "      <td>1</td>\n",
       "      <td>-1</td>\n",
       "      <td>1</td>\n",
       "      <td>1</td>\n",
       "      <td>-1</td>\n",
       "      <td>1</td>\n",
       "      <td>1</td>\n",
       "      <td>-1</td>\n",
       "      <td>1</td>\n",
       "    </tr>\n",
       "  </tbody>\n",
       "</table>\n",
       "<p>1000 rows × 41 columns</p>\n",
       "</div>"
      ],
      "text/plain": [
       "       image_id  5_o_Clock_Shadow  Arched_Eyebrows  Attractive  \\\n",
       "0    000001.jpg                -1                1           1   \n",
       "1    000002.jpg                -1               -1          -1   \n",
       "2    000003.jpg                -1               -1          -1   \n",
       "3    000004.jpg                -1               -1           1   \n",
       "4    000005.jpg                -1                1           1   \n",
       "..          ...               ...              ...         ...   \n",
       "995  000996.jpg                -1                1          -1   \n",
       "996  000997.jpg                -1               -1           1   \n",
       "997  000998.jpg                -1                1           1   \n",
       "998  000999.jpg                -1               -1          -1   \n",
       "999  001000.jpg                -1               -1           1   \n",
       "\n",
       "     Bags_Under_Eyes  Bald  Bangs  Big_Lips  Big_Nose  Black_Hair  ...  \\\n",
       "0                 -1    -1     -1        -1        -1          -1  ...   \n",
       "1                  1    -1     -1        -1         1          -1  ...   \n",
       "2                 -1    -1     -1         1        -1          -1  ...   \n",
       "3                 -1    -1     -1        -1        -1          -1  ...   \n",
       "4                 -1    -1     -1         1        -1          -1  ...   \n",
       "..               ...   ...    ...       ...       ...         ...  ...   \n",
       "995               -1    -1      1        -1        -1          -1  ...   \n",
       "996               -1    -1      1        -1        -1          -1  ...   \n",
       "997               -1    -1     -1        -1        -1          -1  ...   \n",
       "998               -1    -1     -1        -1        -1          -1  ...   \n",
       "999               -1    -1     -1         1        -1          -1  ...   \n",
       "\n",
       "     Sideburns  Smiling  Straight_Hair  Wavy_Hair  Wearing_Earrings  \\\n",
       "0           -1        1              1         -1                 1   \n",
       "1           -1        1             -1         -1                -1   \n",
       "2           -1       -1             -1          1                -1   \n",
       "3           -1       -1              1         -1                 1   \n",
       "4           -1       -1             -1         -1                -1   \n",
       "..         ...      ...            ...        ...               ...   \n",
       "995         -1        1             -1         -1                 1   \n",
       "996         -1       -1             -1         -1                 1   \n",
       "997         -1       -1             -1          1                -1   \n",
       "998         -1       -1             -1         -1                -1   \n",
       "999         -1        1             -1          1                 1   \n",
       "\n",
       "     Wearing_Hat  Wearing_Lipstick  Wearing_Necklace  Wearing_Necktie  Young  \n",
       "0             -1                 1                -1               -1      1  \n",
       "1             -1                -1                -1               -1      1  \n",
       "2             -1                -1                -1               -1      1  \n",
       "3             -1                 1                 1               -1      1  \n",
       "4             -1                 1                -1               -1      1  \n",
       "..           ...               ...               ...              ...    ...  \n",
       "995           -1                 1                 1               -1     -1  \n",
       "996           -1                 1                -1               -1     -1  \n",
       "997           -1                 1                -1               -1      1  \n",
       "998           -1                -1                -1               -1     -1  \n",
       "999           -1                 1                 1               -1      1  \n",
       "\n",
       "[1000 rows x 41 columns]"
      ]
     },
     "execution_count": 290,
     "metadata": {},
     "output_type": "execute_result"
    }
   ],
   "source": [
    "#df_old"
   ]
  },
  {
   "cell_type": "code",
   "execution_count": 291,
   "metadata": {},
   "outputs": [
    {
     "data": {
      "text/html": [
       "<div>\n",
       "<style scoped>\n",
       "    .dataframe tbody tr th:only-of-type {\n",
       "        vertical-align: middle;\n",
       "    }\n",
       "\n",
       "    .dataframe tbody tr th {\n",
       "        vertical-align: top;\n",
       "    }\n",
       "\n",
       "    .dataframe thead th {\n",
       "        text-align: right;\n",
       "    }\n",
       "</style>\n",
       "<table border=\"1\" class=\"dataframe\">\n",
       "  <thead>\n",
       "    <tr style=\"text-align: right;\">\n",
       "      <th></th>\n",
       "      <th>image_id</th>\n",
       "      <th>partition</th>\n",
       "    </tr>\n",
       "  </thead>\n",
       "  <tbody>\n",
       "    <tr>\n",
       "      <th>0</th>\n",
       "      <td>000001.jpg</td>\n",
       "      <td>0</td>\n",
       "    </tr>\n",
       "    <tr>\n",
       "      <th>1</th>\n",
       "      <td>000002.jpg</td>\n",
       "      <td>0</td>\n",
       "    </tr>\n",
       "    <tr>\n",
       "      <th>2</th>\n",
       "      <td>000003.jpg</td>\n",
       "      <td>0</td>\n",
       "    </tr>\n",
       "    <tr>\n",
       "      <th>3</th>\n",
       "      <td>000004.jpg</td>\n",
       "      <td>0</td>\n",
       "    </tr>\n",
       "    <tr>\n",
       "      <th>4</th>\n",
       "      <td>000005.jpg</td>\n",
       "      <td>0</td>\n",
       "    </tr>\n",
       "    <tr>\n",
       "      <th>...</th>\n",
       "      <td>...</td>\n",
       "      <td>...</td>\n",
       "    </tr>\n",
       "    <tr>\n",
       "      <th>995</th>\n",
       "      <td>000996.jpg</td>\n",
       "      <td>0</td>\n",
       "    </tr>\n",
       "    <tr>\n",
       "      <th>996</th>\n",
       "      <td>000997.jpg</td>\n",
       "      <td>0</td>\n",
       "    </tr>\n",
       "    <tr>\n",
       "      <th>997</th>\n",
       "      <td>000998.jpg</td>\n",
       "      <td>0</td>\n",
       "    </tr>\n",
       "    <tr>\n",
       "      <th>998</th>\n",
       "      <td>000999.jpg</td>\n",
       "      <td>0</td>\n",
       "    </tr>\n",
       "    <tr>\n",
       "      <th>999</th>\n",
       "      <td>001000.jpg</td>\n",
       "      <td>0</td>\n",
       "    </tr>\n",
       "  </tbody>\n",
       "</table>\n",
       "<p>1000 rows × 2 columns</p>\n",
       "</div>"
      ],
      "text/plain": [
       "       image_id  partition\n",
       "0    000001.jpg          0\n",
       "1    000002.jpg          0\n",
       "2    000003.jpg          0\n",
       "3    000004.jpg          0\n",
       "4    000005.jpg          0\n",
       "..          ...        ...\n",
       "995  000996.jpg          0\n",
       "996  000997.jpg          0\n",
       "997  000998.jpg          0\n",
       "998  000999.jpg          0\n",
       "999  001000.jpg          0\n",
       "\n",
       "[1000 rows x 2 columns]"
      ]
     },
     "execution_count": 291,
     "metadata": {},
     "output_type": "execute_result"
    }
   ],
   "source": [
    "#split_df"
   ]
  },
  {
   "cell_type": "markdown",
   "metadata": {},
   "source": [
    "# Optionnel : on change les répartitions Training/Testing/Validation"
   ]
  },
  {
   "cell_type": "code",
   "execution_count": 292,
   "metadata": {},
   "outputs": [],
   "source": [
    "part = [0 if i<(len(split_df)*0.7) else (1 if (i>=(len(split_df)*0.7) and i<len(split_df)*0.8) else 2) for i in range(len(split_df))]\n",
    "\n",
    "split_df = pd.DataFrame(list(zip(list(split_data[split_data.columns[0]]), part)),\n",
    "               columns =['image_path', split_data.columns[1]])"
   ]
  },
  {
   "cell_type": "code",
   "execution_count": 293,
   "metadata": {},
   "outputs": [
    {
     "data": {
      "text/html": [
       "<div>\n",
       "<style scoped>\n",
       "    .dataframe tbody tr th:only-of-type {\n",
       "        vertical-align: middle;\n",
       "    }\n",
       "\n",
       "    .dataframe tbody tr th {\n",
       "        vertical-align: top;\n",
       "    }\n",
       "\n",
       "    .dataframe thead th {\n",
       "        text-align: right;\n",
       "    }\n",
       "</style>\n",
       "<table border=\"1\" class=\"dataframe\">\n",
       "  <thead>\n",
       "    <tr style=\"text-align: right;\">\n",
       "      <th></th>\n",
       "      <th>image_path</th>\n",
       "      <th>partition</th>\n",
       "    </tr>\n",
       "  </thead>\n",
       "  <tbody>\n",
       "    <tr>\n",
       "      <th>0</th>\n",
       "      <td>000001.jpg</td>\n",
       "      <td>0</td>\n",
       "    </tr>\n",
       "    <tr>\n",
       "      <th>1</th>\n",
       "      <td>000002.jpg</td>\n",
       "      <td>0</td>\n",
       "    </tr>\n",
       "    <tr>\n",
       "      <th>2</th>\n",
       "      <td>000003.jpg</td>\n",
       "      <td>0</td>\n",
       "    </tr>\n",
       "    <tr>\n",
       "      <th>3</th>\n",
       "      <td>000004.jpg</td>\n",
       "      <td>0</td>\n",
       "    </tr>\n",
       "    <tr>\n",
       "      <th>4</th>\n",
       "      <td>000005.jpg</td>\n",
       "      <td>0</td>\n",
       "    </tr>\n",
       "    <tr>\n",
       "      <th>...</th>\n",
       "      <td>...</td>\n",
       "      <td>...</td>\n",
       "    </tr>\n",
       "    <tr>\n",
       "      <th>995</th>\n",
       "      <td>000996.jpg</td>\n",
       "      <td>2</td>\n",
       "    </tr>\n",
       "    <tr>\n",
       "      <th>996</th>\n",
       "      <td>000997.jpg</td>\n",
       "      <td>2</td>\n",
       "    </tr>\n",
       "    <tr>\n",
       "      <th>997</th>\n",
       "      <td>000998.jpg</td>\n",
       "      <td>2</td>\n",
       "    </tr>\n",
       "    <tr>\n",
       "      <th>998</th>\n",
       "      <td>000999.jpg</td>\n",
       "      <td>2</td>\n",
       "    </tr>\n",
       "    <tr>\n",
       "      <th>999</th>\n",
       "      <td>001000.jpg</td>\n",
       "      <td>2</td>\n",
       "    </tr>\n",
       "  </tbody>\n",
       "</table>\n",
       "<p>1000 rows × 2 columns</p>\n",
       "</div>"
      ],
      "text/plain": [
       "     image_path  partition\n",
       "0    000001.jpg          0\n",
       "1    000002.jpg          0\n",
       "2    000003.jpg          0\n",
       "3    000004.jpg          0\n",
       "4    000005.jpg          0\n",
       "..          ...        ...\n",
       "995  000996.jpg          2\n",
       "996  000997.jpg          2\n",
       "997  000998.jpg          2\n",
       "998  000999.jpg          2\n",
       "999  001000.jpg          2\n",
       "\n",
       "[1000 rows x 2 columns]"
      ]
     },
     "execution_count": 293,
     "metadata": {},
     "output_type": "execute_result"
    }
   ],
   "source": [
    "#split_df"
   ]
  },
  {
   "cell_type": "markdown",
   "metadata": {},
   "source": [
    "# Récupération des labels pour chaque image et mise en forme du dataframe"
   ]
  },
  {
   "cell_type": "markdown",
   "metadata": {},
   "source": [
    "Pour chaque image on fait une liste des labels qui lui sont attribués. Dans une liste on stocke tout les labels qui sont à 1 pour cette image."
   ]
  },
  {
   "cell_type": "code",
   "execution_count": 294,
   "metadata": {},
   "outputs": [],
   "source": [
    "y = []\n",
    "for row in df_old.iterrows():\n",
    "    sub_y = []\n",
    "    for i in range(1,len(row[1])) :\n",
    "        if (int(row[1][i])==1) and (df_old.columns.values[i] not in excluded_labels):\n",
    "            sub_y.append(df_old.columns.values[i])\n",
    "    y.append(sub_y)\n",
    "    \n",
    "df = pd.DataFrame(list(zip(list(df_old[df_old.columns[0]]), y)),\n",
    "               columns =['image_path', 'tags'])\n",
    "\n",
    "#on merge la répartion des images et leurs labels dans le même dataset\n",
    "result = pd.merge(split_df, df,on='image_path')"
   ]
  },
  {
   "cell_type": "code",
   "execution_count": 295,
   "metadata": {},
   "outputs": [
    {
     "data": {
      "text/html": [
       "<div>\n",
       "<style scoped>\n",
       "    .dataframe tbody tr th:only-of-type {\n",
       "        vertical-align: middle;\n",
       "    }\n",
       "\n",
       "    .dataframe tbody tr th {\n",
       "        vertical-align: top;\n",
       "    }\n",
       "\n",
       "    .dataframe thead th {\n",
       "        text-align: right;\n",
       "    }\n",
       "</style>\n",
       "<table border=\"1\" class=\"dataframe\">\n",
       "  <thead>\n",
       "    <tr style=\"text-align: right;\">\n",
       "      <th></th>\n",
       "      <th>image_path</th>\n",
       "      <th>tags</th>\n",
       "    </tr>\n",
       "  </thead>\n",
       "  <tbody>\n",
       "    <tr>\n",
       "      <th>0</th>\n",
       "      <td>000001.jpg</td>\n",
       "      <td>[Brown_Hair, Heavy_Makeup, High_Cheekbones, Mo...</td>\n",
       "    </tr>\n",
       "    <tr>\n",
       "      <th>1</th>\n",
       "      <td>000002.jpg</td>\n",
       "      <td>[Bags_Under_Eyes, Big_Nose, Brown_Hair, High_C...</td>\n",
       "    </tr>\n",
       "    <tr>\n",
       "      <th>2</th>\n",
       "      <td>000003.jpg</td>\n",
       "      <td>[Big_Lips, Male, No_Beard, Pointy_Nose, Wavy_H...</td>\n",
       "    </tr>\n",
       "    <tr>\n",
       "      <th>3</th>\n",
       "      <td>000004.jpg</td>\n",
       "      <td>[No_Beard, Pointy_Nose, Straight_Hair, Wearing...</td>\n",
       "    </tr>\n",
       "    <tr>\n",
       "      <th>4</th>\n",
       "      <td>000005.jpg</td>\n",
       "      <td>[Big_Lips, Heavy_Makeup, No_Beard, Pointy_Nose...</td>\n",
       "    </tr>\n",
       "    <tr>\n",
       "      <th>...</th>\n",
       "      <td>...</td>\n",
       "      <td>...</td>\n",
       "    </tr>\n",
       "    <tr>\n",
       "      <th>995</th>\n",
       "      <td>000996.jpg</td>\n",
       "      <td>[Bangs, Blond_Hair, Heavy_Makeup, High_Cheekbo...</td>\n",
       "    </tr>\n",
       "    <tr>\n",
       "      <th>996</th>\n",
       "      <td>000997.jpg</td>\n",
       "      <td>[Bangs, Blond_Hair, Heavy_Makeup, No_Beard, Pa...</td>\n",
       "    </tr>\n",
       "    <tr>\n",
       "      <th>997</th>\n",
       "      <td>000998.jpg</td>\n",
       "      <td>[Blond_Hair, Heavy_Makeup, Mouth_Slightly_Open...</td>\n",
       "    </tr>\n",
       "    <tr>\n",
       "      <th>998</th>\n",
       "      <td>000999.jpg</td>\n",
       "      <td>[Male, No_Beard]</td>\n",
       "    </tr>\n",
       "    <tr>\n",
       "      <th>999</th>\n",
       "      <td>001000.jpg</td>\n",
       "      <td>[Big_Lips, Heavy_Makeup, High_Cheekbones, Mout...</td>\n",
       "    </tr>\n",
       "  </tbody>\n",
       "</table>\n",
       "<p>1000 rows × 2 columns</p>\n",
       "</div>"
      ],
      "text/plain": [
       "     image_path                                               tags\n",
       "0    000001.jpg  [Brown_Hair, Heavy_Makeup, High_Cheekbones, Mo...\n",
       "1    000002.jpg  [Bags_Under_Eyes, Big_Nose, Brown_Hair, High_C...\n",
       "2    000003.jpg  [Big_Lips, Male, No_Beard, Pointy_Nose, Wavy_H...\n",
       "3    000004.jpg  [No_Beard, Pointy_Nose, Straight_Hair, Wearing...\n",
       "4    000005.jpg  [Big_Lips, Heavy_Makeup, No_Beard, Pointy_Nose...\n",
       "..          ...                                                ...\n",
       "995  000996.jpg  [Bangs, Blond_Hair, Heavy_Makeup, High_Cheekbo...\n",
       "996  000997.jpg  [Bangs, Blond_Hair, Heavy_Makeup, No_Beard, Pa...\n",
       "997  000998.jpg  [Blond_Hair, Heavy_Makeup, Mouth_Slightly_Open...\n",
       "998  000999.jpg                                   [Male, No_Beard]\n",
       "999  001000.jpg  [Big_Lips, Heavy_Makeup, High_Cheekbones, Mout...\n",
       "\n",
       "[1000 rows x 2 columns]"
      ]
     },
     "execution_count": 295,
     "metadata": {},
     "output_type": "execute_result"
    }
   ],
   "source": [
    "#df"
   ]
  },
  {
   "cell_type": "code",
   "execution_count": 296,
   "metadata": {},
   "outputs": [
    {
     "data": {
      "text/html": [
       "<div>\n",
       "<style scoped>\n",
       "    .dataframe tbody tr th:only-of-type {\n",
       "        vertical-align: middle;\n",
       "    }\n",
       "\n",
       "    .dataframe tbody tr th {\n",
       "        vertical-align: top;\n",
       "    }\n",
       "\n",
       "    .dataframe thead th {\n",
       "        text-align: right;\n",
       "    }\n",
       "</style>\n",
       "<table border=\"1\" class=\"dataframe\">\n",
       "  <thead>\n",
       "    <tr style=\"text-align: right;\">\n",
       "      <th></th>\n",
       "      <th>image_path</th>\n",
       "      <th>partition</th>\n",
       "      <th>tags</th>\n",
       "    </tr>\n",
       "  </thead>\n",
       "  <tbody>\n",
       "    <tr>\n",
       "      <th>0</th>\n",
       "      <td>000001.jpg</td>\n",
       "      <td>0</td>\n",
       "      <td>[Brown_Hair, Heavy_Makeup, High_Cheekbones, Mo...</td>\n",
       "    </tr>\n",
       "    <tr>\n",
       "      <th>1</th>\n",
       "      <td>000002.jpg</td>\n",
       "      <td>0</td>\n",
       "      <td>[Bags_Under_Eyes, Big_Nose, Brown_Hair, High_C...</td>\n",
       "    </tr>\n",
       "    <tr>\n",
       "      <th>2</th>\n",
       "      <td>000003.jpg</td>\n",
       "      <td>0</td>\n",
       "      <td>[Big_Lips, Male, No_Beard, Pointy_Nose, Wavy_H...</td>\n",
       "    </tr>\n",
       "    <tr>\n",
       "      <th>3</th>\n",
       "      <td>000004.jpg</td>\n",
       "      <td>0</td>\n",
       "      <td>[No_Beard, Pointy_Nose, Straight_Hair, Wearing...</td>\n",
       "    </tr>\n",
       "    <tr>\n",
       "      <th>4</th>\n",
       "      <td>000005.jpg</td>\n",
       "      <td>0</td>\n",
       "      <td>[Big_Lips, Heavy_Makeup, No_Beard, Pointy_Nose...</td>\n",
       "    </tr>\n",
       "    <tr>\n",
       "      <th>...</th>\n",
       "      <td>...</td>\n",
       "      <td>...</td>\n",
       "      <td>...</td>\n",
       "    </tr>\n",
       "    <tr>\n",
       "      <th>995</th>\n",
       "      <td>000996.jpg</td>\n",
       "      <td>2</td>\n",
       "      <td>[Bangs, Blond_Hair, Heavy_Makeup, High_Cheekbo...</td>\n",
       "    </tr>\n",
       "    <tr>\n",
       "      <th>996</th>\n",
       "      <td>000997.jpg</td>\n",
       "      <td>2</td>\n",
       "      <td>[Bangs, Blond_Hair, Heavy_Makeup, No_Beard, Pa...</td>\n",
       "    </tr>\n",
       "    <tr>\n",
       "      <th>997</th>\n",
       "      <td>000998.jpg</td>\n",
       "      <td>2</td>\n",
       "      <td>[Blond_Hair, Heavy_Makeup, Mouth_Slightly_Open...</td>\n",
       "    </tr>\n",
       "    <tr>\n",
       "      <th>998</th>\n",
       "      <td>000999.jpg</td>\n",
       "      <td>2</td>\n",
       "      <td>[Male, No_Beard]</td>\n",
       "    </tr>\n",
       "    <tr>\n",
       "      <th>999</th>\n",
       "      <td>001000.jpg</td>\n",
       "      <td>2</td>\n",
       "      <td>[Big_Lips, Heavy_Makeup, High_Cheekbones, Mout...</td>\n",
       "    </tr>\n",
       "  </tbody>\n",
       "</table>\n",
       "<p>1000 rows × 3 columns</p>\n",
       "</div>"
      ],
      "text/plain": [
       "     image_path  partition                                               tags\n",
       "0    000001.jpg          0  [Brown_Hair, Heavy_Makeup, High_Cheekbones, Mo...\n",
       "1    000002.jpg          0  [Bags_Under_Eyes, Big_Nose, Brown_Hair, High_C...\n",
       "2    000003.jpg          0  [Big_Lips, Male, No_Beard, Pointy_Nose, Wavy_H...\n",
       "3    000004.jpg          0  [No_Beard, Pointy_Nose, Straight_Hair, Wearing...\n",
       "4    000005.jpg          0  [Big_Lips, Heavy_Makeup, No_Beard, Pointy_Nose...\n",
       "..          ...        ...                                                ...\n",
       "995  000996.jpg          2  [Bangs, Blond_Hair, Heavy_Makeup, High_Cheekbo...\n",
       "996  000997.jpg          2  [Bangs, Blond_Hair, Heavy_Makeup, No_Beard, Pa...\n",
       "997  000998.jpg          2  [Blond_Hair, Heavy_Makeup, Mouth_Slightly_Open...\n",
       "998  000999.jpg          2                                   [Male, No_Beard]\n",
       "999  001000.jpg          2  [Big_Lips, Heavy_Makeup, High_Cheekbones, Mout...\n",
       "\n",
       "[1000 rows x 3 columns]"
      ]
     },
     "execution_count": 296,
     "metadata": {},
     "output_type": "execute_result"
    }
   ],
   "source": [
    "#result"
   ]
  },
  {
   "cell_type": "markdown",
   "metadata": {},
   "source": [
    "# Split des data"
   ]
  },
  {
   "cell_type": "code",
   "execution_count": 297,
   "metadata": {
    "scrolled": true
   },
   "outputs": [],
   "source": [
    "training_df = result.loc[result['partition']==0]\n",
    "validation_df = result.loc[result['partition']==1]\n",
    "testing_df = result.loc[result['partition']==2]\n",
    "TESTING_SIZE = len(testing_df)"
   ]
  },
  {
   "cell_type": "code",
   "execution_count": 298,
   "metadata": {},
   "outputs": [
    {
     "data": {
      "text/html": [
       "<div>\n",
       "<style scoped>\n",
       "    .dataframe tbody tr th:only-of-type {\n",
       "        vertical-align: middle;\n",
       "    }\n",
       "\n",
       "    .dataframe tbody tr th {\n",
       "        vertical-align: top;\n",
       "    }\n",
       "\n",
       "    .dataframe thead th {\n",
       "        text-align: right;\n",
       "    }\n",
       "</style>\n",
       "<table border=\"1\" class=\"dataframe\">\n",
       "  <thead>\n",
       "    <tr style=\"text-align: right;\">\n",
       "      <th></th>\n",
       "      <th>image_path</th>\n",
       "      <th>partition</th>\n",
       "      <th>tags</th>\n",
       "    </tr>\n",
       "  </thead>\n",
       "  <tbody>\n",
       "    <tr>\n",
       "      <th>0</th>\n",
       "      <td>000001.jpg</td>\n",
       "      <td>0</td>\n",
       "      <td>[Brown_Hair, Heavy_Makeup, High_Cheekbones, Mo...</td>\n",
       "    </tr>\n",
       "    <tr>\n",
       "      <th>1</th>\n",
       "      <td>000002.jpg</td>\n",
       "      <td>0</td>\n",
       "      <td>[Bags_Under_Eyes, Big_Nose, Brown_Hair, High_C...</td>\n",
       "    </tr>\n",
       "    <tr>\n",
       "      <th>2</th>\n",
       "      <td>000003.jpg</td>\n",
       "      <td>0</td>\n",
       "      <td>[Big_Lips, Male, No_Beard, Pointy_Nose, Wavy_H...</td>\n",
       "    </tr>\n",
       "    <tr>\n",
       "      <th>3</th>\n",
       "      <td>000004.jpg</td>\n",
       "      <td>0</td>\n",
       "      <td>[No_Beard, Pointy_Nose, Straight_Hair, Wearing...</td>\n",
       "    </tr>\n",
       "    <tr>\n",
       "      <th>4</th>\n",
       "      <td>000005.jpg</td>\n",
       "      <td>0</td>\n",
       "      <td>[Big_Lips, Heavy_Makeup, No_Beard, Pointy_Nose...</td>\n",
       "    </tr>\n",
       "    <tr>\n",
       "      <th>...</th>\n",
       "      <td>...</td>\n",
       "      <td>...</td>\n",
       "      <td>...</td>\n",
       "    </tr>\n",
       "    <tr>\n",
       "      <th>695</th>\n",
       "      <td>000696.jpg</td>\n",
       "      <td>0</td>\n",
       "      <td>[Male, No_Beard, Oval_Face, Smiling, Young]</td>\n",
       "    </tr>\n",
       "    <tr>\n",
       "      <th>696</th>\n",
       "      <td>000697.jpg</td>\n",
       "      <td>0</td>\n",
       "      <td>[Bags_Under_Eyes, Bangs, Big_Nose, High_Cheekb...</td>\n",
       "    </tr>\n",
       "    <tr>\n",
       "      <th>697</th>\n",
       "      <td>000698.jpg</td>\n",
       "      <td>0</td>\n",
       "      <td>[Heavy_Makeup, High_Cheekbones, Mouth_Slightly...</td>\n",
       "    </tr>\n",
       "    <tr>\n",
       "      <th>698</th>\n",
       "      <td>000699.jpg</td>\n",
       "      <td>0</td>\n",
       "      <td>[Blond_Hair, Heavy_Makeup, No_Beard, Oval_Face...</td>\n",
       "    </tr>\n",
       "    <tr>\n",
       "      <th>699</th>\n",
       "      <td>000700.jpg</td>\n",
       "      <td>0</td>\n",
       "      <td>[Black_Hair, Male, No_Beard, Young]</td>\n",
       "    </tr>\n",
       "  </tbody>\n",
       "</table>\n",
       "<p>700 rows × 3 columns</p>\n",
       "</div>"
      ],
      "text/plain": [
       "     image_path  partition                                               tags\n",
       "0    000001.jpg          0  [Brown_Hair, Heavy_Makeup, High_Cheekbones, Mo...\n",
       "1    000002.jpg          0  [Bags_Under_Eyes, Big_Nose, Brown_Hair, High_C...\n",
       "2    000003.jpg          0  [Big_Lips, Male, No_Beard, Pointy_Nose, Wavy_H...\n",
       "3    000004.jpg          0  [No_Beard, Pointy_Nose, Straight_Hair, Wearing...\n",
       "4    000005.jpg          0  [Big_Lips, Heavy_Makeup, No_Beard, Pointy_Nose...\n",
       "..          ...        ...                                                ...\n",
       "695  000696.jpg          0        [Male, No_Beard, Oval_Face, Smiling, Young]\n",
       "696  000697.jpg          0  [Bags_Under_Eyes, Bangs, Big_Nose, High_Cheekb...\n",
       "697  000698.jpg          0  [Heavy_Makeup, High_Cheekbones, Mouth_Slightly...\n",
       "698  000699.jpg          0  [Blond_Hair, Heavy_Makeup, No_Beard, Oval_Face...\n",
       "699  000700.jpg          0                [Black_Hair, Male, No_Beard, Young]\n",
       "\n",
       "[700 rows x 3 columns]"
      ]
     },
     "execution_count": 298,
     "metadata": {},
     "output_type": "execute_result"
    }
   ],
   "source": [
    "#training_df"
   ]
  },
  {
   "cell_type": "code",
   "execution_count": 299,
   "metadata": {},
   "outputs": [
    {
     "data": {
      "text/html": [
       "<div>\n",
       "<style scoped>\n",
       "    .dataframe tbody tr th:only-of-type {\n",
       "        vertical-align: middle;\n",
       "    }\n",
       "\n",
       "    .dataframe tbody tr th {\n",
       "        vertical-align: top;\n",
       "    }\n",
       "\n",
       "    .dataframe thead th {\n",
       "        text-align: right;\n",
       "    }\n",
       "</style>\n",
       "<table border=\"1\" class=\"dataframe\">\n",
       "  <thead>\n",
       "    <tr style=\"text-align: right;\">\n",
       "      <th></th>\n",
       "      <th>image_path</th>\n",
       "      <th>partition</th>\n",
       "      <th>tags</th>\n",
       "    </tr>\n",
       "  </thead>\n",
       "  <tbody>\n",
       "    <tr>\n",
       "      <th>700</th>\n",
       "      <td>000701.jpg</td>\n",
       "      <td>1</td>\n",
       "      <td>[Heavy_Makeup, High_Cheekbones, No_Beard, Oval...</td>\n",
       "    </tr>\n",
       "    <tr>\n",
       "      <th>701</th>\n",
       "      <td>000702.jpg</td>\n",
       "      <td>1</td>\n",
       "      <td>[Big_Lips, Blond_Hair, Heavy_Makeup, Mouth_Sli...</td>\n",
       "    </tr>\n",
       "    <tr>\n",
       "      <th>702</th>\n",
       "      <td>000703.jpg</td>\n",
       "      <td>1</td>\n",
       "      <td>[Big_Lips, Big_Nose, Heavy_Makeup, High_Cheekb...</td>\n",
       "    </tr>\n",
       "    <tr>\n",
       "      <th>703</th>\n",
       "      <td>000704.jpg</td>\n",
       "      <td>1</td>\n",
       "      <td>[Big_Lips, No_Beard, Pale_Skin, Pointy_Nose, S...</td>\n",
       "    </tr>\n",
       "    <tr>\n",
       "      <th>704</th>\n",
       "      <td>000705.jpg</td>\n",
       "      <td>1</td>\n",
       "      <td>[Brown_Hair, Eyeglasses, Male, No_Beard, Young]</td>\n",
       "    </tr>\n",
       "    <tr>\n",
       "      <th>...</th>\n",
       "      <td>...</td>\n",
       "      <td>...</td>\n",
       "      <td>...</td>\n",
       "    </tr>\n",
       "    <tr>\n",
       "      <th>795</th>\n",
       "      <td>000796.jpg</td>\n",
       "      <td>1</td>\n",
       "      <td>[Brown_Hair, Heavy_Makeup, High_Cheekbones, Mo...</td>\n",
       "    </tr>\n",
       "    <tr>\n",
       "      <th>796</th>\n",
       "      <td>000797.jpg</td>\n",
       "      <td>1</td>\n",
       "      <td>[Bags_Under_Eyes, Big_Nose, Brown_Hair, Bushy_...</td>\n",
       "    </tr>\n",
       "    <tr>\n",
       "      <th>797</th>\n",
       "      <td>000798.jpg</td>\n",
       "      <td>1</td>\n",
       "      <td>[Bags_Under_Eyes, Bangs, Big_Nose, Chubby, Eye...</td>\n",
       "    </tr>\n",
       "    <tr>\n",
       "      <th>798</th>\n",
       "      <td>000799.jpg</td>\n",
       "      <td>1</td>\n",
       "      <td>[Big_Lips, Heavy_Makeup, High_Cheekbones, No_B...</td>\n",
       "    </tr>\n",
       "    <tr>\n",
       "      <th>799</th>\n",
       "      <td>000800.jpg</td>\n",
       "      <td>1</td>\n",
       "      <td>[Big_Lips, Big_Nose, Blond_Hair, Heavy_Makeup,...</td>\n",
       "    </tr>\n",
       "  </tbody>\n",
       "</table>\n",
       "<p>100 rows × 3 columns</p>\n",
       "</div>"
      ],
      "text/plain": [
       "     image_path  partition                                               tags\n",
       "700  000701.jpg          1  [Heavy_Makeup, High_Cheekbones, No_Beard, Oval...\n",
       "701  000702.jpg          1  [Big_Lips, Blond_Hair, Heavy_Makeup, Mouth_Sli...\n",
       "702  000703.jpg          1  [Big_Lips, Big_Nose, Heavy_Makeup, High_Cheekb...\n",
       "703  000704.jpg          1  [Big_Lips, No_Beard, Pale_Skin, Pointy_Nose, S...\n",
       "704  000705.jpg          1    [Brown_Hair, Eyeglasses, Male, No_Beard, Young]\n",
       "..          ...        ...                                                ...\n",
       "795  000796.jpg          1  [Brown_Hair, Heavy_Makeup, High_Cheekbones, Mo...\n",
       "796  000797.jpg          1  [Bags_Under_Eyes, Big_Nose, Brown_Hair, Bushy_...\n",
       "797  000798.jpg          1  [Bags_Under_Eyes, Bangs, Big_Nose, Chubby, Eye...\n",
       "798  000799.jpg          1  [Big_Lips, Heavy_Makeup, High_Cheekbones, No_B...\n",
       "799  000800.jpg          1  [Big_Lips, Big_Nose, Blond_Hair, Heavy_Makeup,...\n",
       "\n",
       "[100 rows x 3 columns]"
      ]
     },
     "execution_count": 299,
     "metadata": {},
     "output_type": "execute_result"
    }
   ],
   "source": [
    "#validation_df"
   ]
  },
  {
   "cell_type": "code",
   "execution_count": 300,
   "metadata": {},
   "outputs": [
    {
     "data": {
      "text/html": [
       "<div>\n",
       "<style scoped>\n",
       "    .dataframe tbody tr th:only-of-type {\n",
       "        vertical-align: middle;\n",
       "    }\n",
       "\n",
       "    .dataframe tbody tr th {\n",
       "        vertical-align: top;\n",
       "    }\n",
       "\n",
       "    .dataframe thead th {\n",
       "        text-align: right;\n",
       "    }\n",
       "</style>\n",
       "<table border=\"1\" class=\"dataframe\">\n",
       "  <thead>\n",
       "    <tr style=\"text-align: right;\">\n",
       "      <th></th>\n",
       "      <th>image_path</th>\n",
       "      <th>partition</th>\n",
       "      <th>tags</th>\n",
       "    </tr>\n",
       "  </thead>\n",
       "  <tbody>\n",
       "    <tr>\n",
       "      <th>800</th>\n",
       "      <td>000801.jpg</td>\n",
       "      <td>2</td>\n",
       "      <td>[5_o_Clock_Shadow, Bags_Under_Eyes, Big_Lips, ...</td>\n",
       "    </tr>\n",
       "    <tr>\n",
       "      <th>801</th>\n",
       "      <td>000802.jpg</td>\n",
       "      <td>2</td>\n",
       "      <td>[Mouth_Slightly_Open, No_Beard, Smiling, Young]</td>\n",
       "    </tr>\n",
       "    <tr>\n",
       "      <th>802</th>\n",
       "      <td>000803.jpg</td>\n",
       "      <td>2</td>\n",
       "      <td>[High_Cheekbones, Male, No_Beard, Young]</td>\n",
       "    </tr>\n",
       "    <tr>\n",
       "      <th>803</th>\n",
       "      <td>000804.jpg</td>\n",
       "      <td>2</td>\n",
       "      <td>[Blond_Hair, Heavy_Makeup, High_Cheekbones, Mo...</td>\n",
       "    </tr>\n",
       "    <tr>\n",
       "      <th>804</th>\n",
       "      <td>000805.jpg</td>\n",
       "      <td>2</td>\n",
       "      <td>[Big_Lips, No_Beard, Pointy_Nose, Straight_Hai...</td>\n",
       "    </tr>\n",
       "    <tr>\n",
       "      <th>...</th>\n",
       "      <td>...</td>\n",
       "      <td>...</td>\n",
       "      <td>...</td>\n",
       "    </tr>\n",
       "    <tr>\n",
       "      <th>995</th>\n",
       "      <td>000996.jpg</td>\n",
       "      <td>2</td>\n",
       "      <td>[Bangs, Blond_Hair, Heavy_Makeup, High_Cheekbo...</td>\n",
       "    </tr>\n",
       "    <tr>\n",
       "      <th>996</th>\n",
       "      <td>000997.jpg</td>\n",
       "      <td>2</td>\n",
       "      <td>[Bangs, Blond_Hair, Heavy_Makeup, No_Beard, Pa...</td>\n",
       "    </tr>\n",
       "    <tr>\n",
       "      <th>997</th>\n",
       "      <td>000998.jpg</td>\n",
       "      <td>2</td>\n",
       "      <td>[Blond_Hair, Heavy_Makeup, Mouth_Slightly_Open...</td>\n",
       "    </tr>\n",
       "    <tr>\n",
       "      <th>998</th>\n",
       "      <td>000999.jpg</td>\n",
       "      <td>2</td>\n",
       "      <td>[Male, No_Beard]</td>\n",
       "    </tr>\n",
       "    <tr>\n",
       "      <th>999</th>\n",
       "      <td>001000.jpg</td>\n",
       "      <td>2</td>\n",
       "      <td>[Big_Lips, Heavy_Makeup, High_Cheekbones, Mout...</td>\n",
       "    </tr>\n",
       "  </tbody>\n",
       "</table>\n",
       "<p>200 rows × 3 columns</p>\n",
       "</div>"
      ],
      "text/plain": [
       "     image_path  partition                                               tags\n",
       "800  000801.jpg          2  [5_o_Clock_Shadow, Bags_Under_Eyes, Big_Lips, ...\n",
       "801  000802.jpg          2    [Mouth_Slightly_Open, No_Beard, Smiling, Young]\n",
       "802  000803.jpg          2           [High_Cheekbones, Male, No_Beard, Young]\n",
       "803  000804.jpg          2  [Blond_Hair, Heavy_Makeup, High_Cheekbones, Mo...\n",
       "804  000805.jpg          2  [Big_Lips, No_Beard, Pointy_Nose, Straight_Hai...\n",
       "..          ...        ...                                                ...\n",
       "995  000996.jpg          2  [Bangs, Blond_Hair, Heavy_Makeup, High_Cheekbo...\n",
       "996  000997.jpg          2  [Bangs, Blond_Hair, Heavy_Makeup, No_Beard, Pa...\n",
       "997  000998.jpg          2  [Blond_Hair, Heavy_Makeup, Mouth_Slightly_Open...\n",
       "998  000999.jpg          2                                   [Male, No_Beard]\n",
       "999  001000.jpg          2  [Big_Lips, Heavy_Makeup, High_Cheekbones, Mout...\n",
       "\n",
       "[200 rows x 3 columns]"
      ]
     },
     "execution_count": 300,
     "metadata": {},
     "output_type": "execute_result"
    }
   ],
   "source": [
    "#testing_df"
   ]
  },
  {
   "cell_type": "markdown",
   "metadata": {},
   "source": [
    "# Récupération de la liste des labels possibles "
   ]
  },
  {
   "cell_type": "code",
   "execution_count": 301,
   "metadata": {
    "scrolled": false
   },
   "outputs": [],
   "source": [
    "all_labels = [] \n",
    "for labels in training_df[TAGS_PATH_KEY].values.tolist():\n",
    "    for label in labels:\n",
    "        all_labels.append(label)\n",
    "        \n",
    "unique_labels = list(np.unique(all_labels))"
   ]
  },
  {
   "cell_type": "code",
   "execution_count": 302,
   "metadata": {},
   "outputs": [
    {
     "data": {
      "text/plain": [
       "['5_o_Clock_Shadow',\n",
       " 'Bags_Under_Eyes',\n",
       " 'Bald',\n",
       " 'Bangs',\n",
       " 'Big_Lips',\n",
       " 'Big_Nose',\n",
       " 'Black_Hair',\n",
       " 'Blond_Hair',\n",
       " 'Brown_Hair',\n",
       " 'Bushy_Eyebrows',\n",
       " 'Chubby',\n",
       " 'Eyeglasses',\n",
       " 'Goatee',\n",
       " 'Gray_Hair',\n",
       " 'Heavy_Makeup',\n",
       " 'High_Cheekbones',\n",
       " 'Male',\n",
       " 'Mouth_Slightly_Open',\n",
       " 'Mustache',\n",
       " 'No_Beard',\n",
       " 'Oval_Face',\n",
       " 'Pale_Skin',\n",
       " 'Pointy_Nose',\n",
       " 'Receding_Hairline',\n",
       " 'Rosy_Cheeks',\n",
       " 'Sideburns',\n",
       " 'Smiling',\n",
       " 'Straight_Hair',\n",
       " 'Wavy_Hair',\n",
       " 'Wearing_Earrings',\n",
       " 'Wearing_Hat',\n",
       " 'Wearing_Lipstick',\n",
       " 'Wearing_Necklace',\n",
       " 'Wearing_Necktie',\n",
       " 'Young']"
      ]
     },
     "execution_count": 302,
     "metadata": {},
     "output_type": "execute_result"
    }
   ],
   "source": [
    "#unique_labels"
   ]
  },
  {
   "cell_type": "markdown",
   "metadata": {},
   "source": [
    "# Mise en forme et splitting "
   ]
  },
  {
   "cell_type": "code",
   "execution_count": 303,
   "metadata": {},
   "outputs": [
    {
     "name": "stdout",
     "output_type": "stream",
     "text": [
      "Training :\n",
      "Found 700 validated image filenames belonging to 35 classes.\n",
      "Validation :\n",
      "Found 100 validated image filenames belonging to 35 classes.\n",
      "Testing :\n",
      "Found 200 validated image filenames.\n"
     ]
    }
   ],
   "source": [
    "training_data_generator = ImageDataGenerator(rotation_range=30,\n",
    "                                             zoom_range=0.2,\n",
    "                                             width_shift_range=0.2,\n",
    "                                             height_shift_range=0.2,\n",
    "                                             shear_range=0.2,\n",
    "                                             horizontal_flip=True,\n",
    "                                             fill_mode=\"nearest\",\n",
    "                                             preprocessing_function=preprocess_input)\n",
    "\n",
    "print(\"Training :\")\n",
    "training_generator = training_data_generator.flow_from_dataframe(dataframe=training_df,\n",
    "                                                                 directory=DATASET_PATH,\n",
    "                                                                 x_col=IMAGE_PATH_KEY, \n",
    "                                                                 y_col=TAGS_PATH_KEY,\n",
    "                                                                 batch_size=BATCH_SIZE,\n",
    "                                                                 seed=RANDOM_SEED,\n",
    "                                                                 class_mode=\"categorical\",\n",
    "                                                                 target_size=(IMAGE_SIZE, IMAGE_SIZE),\n",
    "                                                                 )\n",
    "print(\"Validation :\")\n",
    "validation_generator = training_data_generator.flow_from_dataframe(dataframe=validation_df,\n",
    "                                                                   directory=DATASET_PATH,\n",
    "                                                                   x_col=IMAGE_PATH_KEY,\n",
    "                                                                   y_col=TAGS_PATH_KEY,\n",
    "                                                                   batch_size=BATCH_SIZE,\n",
    "                                                                   seed=RANDOM_SEED,\n",
    "                                                                   class_mode=\"categorical\",\n",
    "                                                                   target_size=(IMAGE_SIZE, IMAGE_SIZE), \n",
    "                                                                   )\n",
    "print(\"Testing :\")\n",
    "testing_data_generator = ImageDataGenerator(preprocessing_function=preprocess_input)\n",
    "testing_generator = testing_data_generator.flow_from_dataframe(dataframe=testing_df,\n",
    "                                                               directory=DATASET_PATH,\n",
    "                                                               x_col=IMAGE_PATH_KEY,\n",
    "                                                               batch_size=1,\n",
    "                                                               seed=RANDOM_SEED,\n",
    "                                                               shuffle=False,\n",
    "                                                               class_mode=None,\n",
    "                                                               target_size=(IMAGE_SIZE, IMAGE_SIZE))\n"
   ]
  },
  {
   "cell_type": "markdown",
   "metadata": {},
   "source": [
    "# Fonctions d'évaluation"
   ]
  },
  {
   "cell_type": "code",
   "execution_count": 304,
   "metadata": {},
   "outputs": [],
   "source": [
    "def recall(y_true, y_pred):\n",
    "    true_positives = K.sum(K.round(K.clip(y_true * y_pred, 0, 1)))\n",
    "    possible_positives = K.sum(K.round(K.clip(y_true, 0, 1)))\n",
    "    recall = true_positives / (possible_positives + K.epsilon())\n",
    "    return recall\n",
    "\n",
    "def precision(y_true, y_pred):\n",
    "    true_positives = K.sum(K.round(K.clip(y_true * y_pred, 0, 1)))\n",
    "    predicted_positives = K.sum(K.round(K.clip(y_pred, 0, 1)))\n",
    "    precision = true_positives / (predicted_positives + K.epsilon())\n",
    "    return precision\n",
    "\n",
    "def f1(y_true, y_pred):\n",
    "    p = precision(y_true, y_pred)\n",
    "    r = recall(y_true, y_pred)\n",
    "    return 2*((p*r)/(p++K.epsilon()))"
   ]
  },
  {
   "cell_type": "markdown",
   "metadata": {},
   "source": [
    "# Définition et construction du modèle"
   ]
  },
  {
   "cell_type": "code",
   "execution_count": 305,
   "metadata": {},
   "outputs": [
    {
     "name": "stderr",
     "output_type": "stream",
     "text": [
      "C:\\Users\\fifid\\anaconda3\\lib\\site-packages\\keras\\optimizers\\optimizer_v2\\adam.py:117: UserWarning: The `lr` argument is deprecated, use `learning_rate` instead.\n",
      "  super().__init__(name, **kwargs)\n"
     ]
    }
   ],
   "source": [
    "def get_model():\n",
    "    def model(backbone):\n",
    "        model = Sequential()\n",
    "        model.add(backbone)\n",
    "        model.add(GlobalAveragePooling2D())\n",
    "        model.add(Dropout(DROPOUT))\n",
    "        model.add(BatchNormalization())\n",
    "        model.add(Dense(FULLY_CONNECTED, activation='relu'))\n",
    "        model.add(Dense(len(unique_labels), activation='sigmoid'))\n",
    "        model.compile(loss='binary_crossentropy',\n",
    "                      optimizer=optimizers.Adam(lr=LEARNING_RATE, decay=LEARNING_RATE_DECAY),\n",
    "                      metrics=[\"accuracy\", recall, precision, f1])\n",
    "        return model\n",
    "\n",
    "    backbone = MobileNetV2(input_shape=(IMAGE_SIZE, IMAGE_SIZE, 3), include_top=False, weights='imagenet')\n",
    "    backbone.trainable = False\n",
    "    return model(backbone)\n",
    "\n",
    "model = get_model()"
   ]
  },
  {
   "cell_type": "markdown",
   "metadata": {},
   "source": [
    "# Enregistrement du modèle"
   ]
  },
  {
   "cell_type": "code",
   "execution_count": 306,
   "metadata": {},
   "outputs": [],
   "source": [
    "checkpoint_dir = os.path.dirname(MODEL_PATH)\n",
    "cp_callback = ModelCheckpoint(filepath=MODEL_PATH,\n",
    "                               monitor='val_f1',\n",
    "                               mode='max',\n",
    "                               save_best_only=True, verbose=1)"
   ]
  },
  {
   "cell_type": "markdown",
   "metadata": {},
   "source": [
    "# Entrainement du modèle"
   ]
  },
  {
   "cell_type": "code",
   "execution_count": 307,
   "metadata": {
    "scrolled": true
   },
   "outputs": [
    {
     "data": {
      "image/png": "[encoded data removed]",
      "text/plain": [
       "<Figure size 864x1152 with 6 Axes>"
      ]
     },
     "metadata": {
      "needs_background": "light"
     },
     "output_type": "display_data"
    },
    {
     "name": "stdout",
     "output_type": "stream",
     "text": [
      "accuracy\n",
      "\ttraining         \t (min:    0.009, max:    0.038, cur:    0.026)\n",
      "\tvalidation       \t (min:    0.000, max:    0.052, cur:    0.010)\n",
      "f1\n",
      "\ttraining         \t (min:    0.808, max:    1.168, cur:    1.160)\n",
      "\tvalidation       \t (min:    0.842, max:    1.067, cur:    1.066)\n",
      "Loss\n",
      "\ttraining         \t (min:    0.315, max:    0.624, cur:    0.319)\n",
      "\tvalidation       \t (min:    0.374, max:    0.525, cur:    0.383)\n",
      "precision\n",
      "\ttraining         \t (min:    0.364, max:    0.757, cur:    0.755)\n",
      "\tvalidation       \t (min:    0.546, max:    0.693, cur:    0.661)\n",
      "recall\n",
      "\ttraining         \t (min:    0.404, max:    0.584, cur:    0.580)\n",
      "\tvalidation       \t (min:    0.421, max:    0.534, cur:    0.533)\n",
      "\n",
      "Epoch 54: val_f1 did not improve from 1.06723\n",
      "43/43 [==============================] - 13s 297ms/step - loss: 0.3194 - accuracy: 0.0263 - recall: 0.5799 - precision: 0.7550 - f1: 1.1597 - val_loss: 0.3827 - val_accuracy: 0.0104 - val_recall: 0.5330 - val_precision: 0.6609 - val_f1: 1.0659\n",
      "Epoch 55/100\n",
      "29/43 [===================>..........] - ETA: 3s - loss: 0.3208 - accuracy: 0.0366 - recall: 0.5866 - precision: 0.7479 - f1: 1.1732"
     ]
    },
    {
     "ename": "KeyboardInterrupt",
     "evalue": "",
     "output_type": "error",
     "traceback": [
      "\u001b[1;31m---------------------------------------------------------------------------\u001b[0m",
      "\u001b[1;31mKeyboardInterrupt\u001b[0m                         Traceback (most recent call last)",
      "\u001b[1;32m~\\AppData\\Local\\Temp/ipykernel_36692/194214398.py\u001b[0m in \u001b[0;36m<module>\u001b[1;34m\u001b[0m\n\u001b[1;32m----> 1\u001b[1;33m model.fit(x=training_generator,\n\u001b[0m\u001b[0;32m      2\u001b[0m             \u001b[0msteps_per_epoch\u001b[0m\u001b[1;33m=\u001b[0m\u001b[0mtraining_generator\u001b[0m\u001b[1;33m.\u001b[0m\u001b[0mn\u001b[0m \u001b[1;33m//\u001b[0m \u001b[0mtraining_generator\u001b[0m\u001b[1;33m.\u001b[0m\u001b[0mbatch_size\u001b[0m\u001b[1;33m,\u001b[0m\u001b[1;33m\u001b[0m\u001b[1;33m\u001b[0m\u001b[0m\n\u001b[0;32m      3\u001b[0m             \u001b[0mvalidation_data\u001b[0m\u001b[1;33m=\u001b[0m\u001b[0mvalidation_generator\u001b[0m\u001b[1;33m,\u001b[0m\u001b[1;33m\u001b[0m\u001b[1;33m\u001b[0m\u001b[0m\n\u001b[0;32m      4\u001b[0m             \u001b[0mvalidation_steps\u001b[0m\u001b[1;33m=\u001b[0m\u001b[0mvalidation_generator\u001b[0m\u001b[1;33m.\u001b[0m\u001b[0mn\u001b[0m \u001b[1;33m//\u001b[0m \u001b[0mvalidation_generator\u001b[0m\u001b[1;33m.\u001b[0m\u001b[0mbatch_size\u001b[0m\u001b[1;33m,\u001b[0m\u001b[1;33m\u001b[0m\u001b[1;33m\u001b[0m\u001b[0m\n\u001b[0;32m      5\u001b[0m             \u001b[0mcallbacks\u001b[0m\u001b[1;33m=\u001b[0m\u001b[1;33m[\u001b[0m\u001b[0mPlotLossesKeras\u001b[0m\u001b[1;33m(\u001b[0m\u001b[1;33m)\u001b[0m\u001b[1;33m,\u001b[0m\u001b[0mcp_callback\u001b[0m\u001b[1;33m]\u001b[0m\u001b[1;33m,\u001b[0m\u001b[1;33m\u001b[0m\u001b[1;33m\u001b[0m\u001b[0m\n",
      "\u001b[1;32m~\\anaconda3\\lib\\site-packages\\keras\\utils\\traceback_utils.py\u001b[0m in \u001b[0;36merror_handler\u001b[1;34m(*args, **kwargs)\u001b[0m\n\u001b[0;32m     63\u001b[0m         \u001b[0mfiltered_tb\u001b[0m \u001b[1;33m=\u001b[0m \u001b[1;32mNone\u001b[0m\u001b[1;33m\u001b[0m\u001b[1;33m\u001b[0m\u001b[0m\n\u001b[0;32m     64\u001b[0m         \u001b[1;32mtry\u001b[0m\u001b[1;33m:\u001b[0m\u001b[1;33m\u001b[0m\u001b[1;33m\u001b[0m\u001b[0m\n\u001b[1;32m---> 65\u001b[1;33m             \u001b[1;32mreturn\u001b[0m \u001b[0mfn\u001b[0m\u001b[1;33m(\u001b[0m\u001b[1;33m*\u001b[0m\u001b[0margs\u001b[0m\u001b[1;33m,\u001b[0m \u001b[1;33m**\u001b[0m\u001b[0mkwargs\u001b[0m\u001b[1;33m)\u001b[0m\u001b[1;33m\u001b[0m\u001b[1;33m\u001b[0m\u001b[0m\n\u001b[0m\u001b[0;32m     66\u001b[0m         \u001b[1;32mexcept\u001b[0m \u001b[0mException\u001b[0m \u001b[1;32mas\u001b[0m \u001b[0me\u001b[0m\u001b[1;33m:\u001b[0m\u001b[1;33m\u001b[0m\u001b[1;33m\u001b[0m\u001b[0m\n\u001b[0;32m     67\u001b[0m             \u001b[0mfiltered_tb\u001b[0m \u001b[1;33m=\u001b[0m \u001b[0m_process_traceback_frames\u001b[0m\u001b[1;33m(\u001b[0m\u001b[0me\u001b[0m\u001b[1;33m.\u001b[0m\u001b[0m__traceback__\u001b[0m\u001b[1;33m)\u001b[0m\u001b[1;33m\u001b[0m\u001b[1;33m\u001b[0m\u001b[0m\n",
      "\u001b[1;32m~\\anaconda3\\lib\\site-packages\\keras\\engine\\training.py\u001b[0m in \u001b[0;36mfit\u001b[1;34m(self, x, y, batch_size, epochs, verbose, callbacks, validation_split, validation_data, shuffle, class_weight, sample_weight, initial_epoch, steps_per_epoch, validation_steps, validation_batch_size, validation_freq, max_queue_size, workers, use_multiprocessing)\u001b[0m\n\u001b[0;32m   1648\u001b[0m                         ):\n\u001b[0;32m   1649\u001b[0m                             \u001b[0mcallbacks\u001b[0m\u001b[1;33m.\u001b[0m\u001b[0mon_train_batch_begin\u001b[0m\u001b[1;33m(\u001b[0m\u001b[0mstep\u001b[0m\u001b[1;33m)\u001b[0m\u001b[1;33m\u001b[0m\u001b[1;33m\u001b[0m\u001b[0m\n\u001b[1;32m-> 1650\u001b[1;33m                             \u001b[0mtmp_logs\u001b[0m \u001b[1;33m=\u001b[0m \u001b[0mself\u001b[0m\u001b[1;33m.\u001b[0m\u001b[0mtrain_function\u001b[0m\u001b[1;33m(\u001b[0m\u001b[0miterator\u001b[0m\u001b[1;33m)\u001b[0m\u001b[1;33m\u001b[0m\u001b[1;33m\u001b[0m\u001b[0m\n\u001b[0m\u001b[0;32m   1651\u001b[0m                             \u001b[1;32mif\u001b[0m \u001b[0mdata_handler\u001b[0m\u001b[1;33m.\u001b[0m\u001b[0mshould_sync\u001b[0m\u001b[1;33m:\u001b[0m\u001b[1;33m\u001b[0m\u001b[1;33m\u001b[0m\u001b[0m\n\u001b[0;32m   1652\u001b[0m                                 \u001b[0mcontext\u001b[0m\u001b[1;33m.\u001b[0m\u001b[0masync_wait\u001b[0m\u001b[1;33m(\u001b[0m\u001b[1;33m)\u001b[0m\u001b[1;33m\u001b[0m\u001b[1;33m\u001b[0m\u001b[0m\n",
      "\u001b[1;32m~\\anaconda3\\lib\\site-packages\\tensorflow\\python\\util\\traceback_utils.py\u001b[0m in \u001b[0;36merror_handler\u001b[1;34m(*args, **kwargs)\u001b[0m\n\u001b[0;32m    148\u001b[0m     \u001b[0mfiltered_tb\u001b[0m \u001b[1;33m=\u001b[0m \u001b[1;32mNone\u001b[0m\u001b[1;33m\u001b[0m\u001b[1;33m\u001b[0m\u001b[0m\n\u001b[0;32m    149\u001b[0m     \u001b[1;32mtry\u001b[0m\u001b[1;33m:\u001b[0m\u001b[1;33m\u001b[0m\u001b[1;33m\u001b[0m\u001b[0m\n\u001b[1;32m--> 150\u001b[1;33m       \u001b[1;32mreturn\u001b[0m \u001b[0mfn\u001b[0m\u001b[1;33m(\u001b[0m\u001b[1;33m*\u001b[0m\u001b[0margs\u001b[0m\u001b[1;33m,\u001b[0m \u001b[1;33m**\u001b[0m\u001b[0mkwargs\u001b[0m\u001b[1;33m)\u001b[0m\u001b[1;33m\u001b[0m\u001b[1;33m\u001b[0m\u001b[0m\n\u001b[0m\u001b[0;32m    151\u001b[0m     \u001b[1;32mexcept\u001b[0m \u001b[0mException\u001b[0m \u001b[1;32mas\u001b[0m \u001b[0me\u001b[0m\u001b[1;33m:\u001b[0m\u001b[1;33m\u001b[0m\u001b[1;33m\u001b[0m\u001b[0m\n\u001b[0;32m    152\u001b[0m       \u001b[0mfiltered_tb\u001b[0m \u001b[1;33m=\u001b[0m \u001b[0m_process_traceback_frames\u001b[0m\u001b[1;33m(\u001b[0m\u001b[0me\u001b[0m\u001b[1;33m.\u001b[0m\u001b[0m__traceback__\u001b[0m\u001b[1;33m)\u001b[0m\u001b[1;33m\u001b[0m\u001b[1;33m\u001b[0m\u001b[0m\n",
      "\u001b[1;32m~\\anaconda3\\lib\\site-packages\\tensorflow\\python\\eager\\polymorphic_function\\polymorphic_function.py\u001b[0m in \u001b[0;36m__call__\u001b[1;34m(self, *args, **kwds)\u001b[0m\n\u001b[0;32m    878\u001b[0m \u001b[1;33m\u001b[0m\u001b[0m\n\u001b[0;32m    879\u001b[0m       \u001b[1;32mwith\u001b[0m \u001b[0mOptionalXlaContext\u001b[0m\u001b[1;33m(\u001b[0m\u001b[0mself\u001b[0m\u001b[1;33m.\u001b[0m\u001b[0m_jit_compile\u001b[0m\u001b[1;33m)\u001b[0m\u001b[1;33m:\u001b[0m\u001b[1;33m\u001b[0m\u001b[1;33m\u001b[0m\u001b[0m\n\u001b[1;32m--> 880\u001b[1;33m         \u001b[0mresult\u001b[0m \u001b[1;33m=\u001b[0m \u001b[0mself\u001b[0m\u001b[1;33m.\u001b[0m\u001b[0m_call\u001b[0m\u001b[1;33m(\u001b[0m\u001b[1;33m*\u001b[0m\u001b[0margs\u001b[0m\u001b[1;33m,\u001b[0m \u001b[1;33m**\u001b[0m\u001b[0mkwds\u001b[0m\u001b[1;33m)\u001b[0m\u001b[1;33m\u001b[0m\u001b[1;33m\u001b[0m\u001b[0m\n\u001b[0m\u001b[0;32m    881\u001b[0m \u001b[1;33m\u001b[0m\u001b[0m\n\u001b[0;32m    882\u001b[0m       \u001b[0mnew_tracing_count\u001b[0m \u001b[1;33m=\u001b[0m \u001b[0mself\u001b[0m\u001b[1;33m.\u001b[0m\u001b[0mexperimental_get_tracing_count\u001b[0m\u001b[1;33m(\u001b[0m\u001b[1;33m)\u001b[0m\u001b[1;33m\u001b[0m\u001b[1;33m\u001b[0m\u001b[0m\n",
      "\u001b[1;32m~\\anaconda3\\lib\\site-packages\\tensorflow\\python\\eager\\polymorphic_function\\polymorphic_function.py\u001b[0m in \u001b[0;36m_call\u001b[1;34m(self, *args, **kwds)\u001b[0m\n\u001b[0;32m    910\u001b[0m       \u001b[1;31m# In this case we have created variables on the first call, so we run the\u001b[0m\u001b[1;33m\u001b[0m\u001b[1;33m\u001b[0m\u001b[1;33m\u001b[0m\u001b[0m\n\u001b[0;32m    911\u001b[0m       \u001b[1;31m# defunned version which is guaranteed to never create variables.\u001b[0m\u001b[1;33m\u001b[0m\u001b[1;33m\u001b[0m\u001b[1;33m\u001b[0m\u001b[0m\n\u001b[1;32m--> 912\u001b[1;33m       \u001b[1;32mreturn\u001b[0m \u001b[0mself\u001b[0m\u001b[1;33m.\u001b[0m\u001b[0m_no_variable_creation_fn\u001b[0m\u001b[1;33m(\u001b[0m\u001b[1;33m*\u001b[0m\u001b[0margs\u001b[0m\u001b[1;33m,\u001b[0m \u001b[1;33m**\u001b[0m\u001b[0mkwds\u001b[0m\u001b[1;33m)\u001b[0m  \u001b[1;31m# pylint: disable=not-callable\u001b[0m\u001b[1;33m\u001b[0m\u001b[1;33m\u001b[0m\u001b[0m\n\u001b[0m\u001b[0;32m    913\u001b[0m     \u001b[1;32melif\u001b[0m \u001b[0mself\u001b[0m\u001b[1;33m.\u001b[0m\u001b[0m_variable_creation_fn\u001b[0m \u001b[1;32mis\u001b[0m \u001b[1;32mnot\u001b[0m \u001b[1;32mNone\u001b[0m\u001b[1;33m:\u001b[0m\u001b[1;33m\u001b[0m\u001b[1;33m\u001b[0m\u001b[0m\n\u001b[0;32m    914\u001b[0m       \u001b[1;31m# Release the lock early so that multiple threads can perform the call\u001b[0m\u001b[1;33m\u001b[0m\u001b[1;33m\u001b[0m\u001b[1;33m\u001b[0m\u001b[0m\n",
      "\u001b[1;32m~\\anaconda3\\lib\\site-packages\\tensorflow\\python\\eager\\polymorphic_function\\tracing_compiler.py\u001b[0m in \u001b[0;36m__call__\u001b[1;34m(self, *args, **kwargs)\u001b[0m\n\u001b[0;32m    132\u001b[0m       (concrete_function,\n\u001b[0;32m    133\u001b[0m        filtered_flat_args) = self._maybe_define_function(args, kwargs)\n\u001b[1;32m--> 134\u001b[1;33m     return concrete_function._call_flat(\n\u001b[0m\u001b[0;32m    135\u001b[0m         filtered_flat_args, captured_inputs=concrete_function.captured_inputs)  # pylint: disable=protected-access\n\u001b[0;32m    136\u001b[0m \u001b[1;33m\u001b[0m\u001b[0m\n",
      "\u001b[1;32m~\\anaconda3\\lib\\site-packages\\tensorflow\\python\\eager\\polymorphic_function\\monomorphic_function.py\u001b[0m in \u001b[0;36m_call_flat\u001b[1;34m(self, args, captured_inputs, cancellation_manager)\u001b[0m\n\u001b[0;32m   1743\u001b[0m         and executing_eagerly):\n\u001b[0;32m   1744\u001b[0m       \u001b[1;31m# No tape is watching; skip to running the function.\u001b[0m\u001b[1;33m\u001b[0m\u001b[1;33m\u001b[0m\u001b[1;33m\u001b[0m\u001b[0m\n\u001b[1;32m-> 1745\u001b[1;33m       return self._build_call_outputs(self._inference_function.call(\n\u001b[0m\u001b[0;32m   1746\u001b[0m           ctx, args, cancellation_manager=cancellation_manager))\n\u001b[0;32m   1747\u001b[0m     forward_backward = self._select_forward_and_backward_functions(\n",
      "\u001b[1;32m~\\anaconda3\\lib\\site-packages\\tensorflow\\python\\eager\\polymorphic_function\\monomorphic_function.py\u001b[0m in \u001b[0;36mcall\u001b[1;34m(self, ctx, args, cancellation_manager)\u001b[0m\n\u001b[0;32m    376\u001b[0m       \u001b[1;32mwith\u001b[0m \u001b[0m_InterpolateFunctionError\u001b[0m\u001b[1;33m(\u001b[0m\u001b[0mself\u001b[0m\u001b[1;33m)\u001b[0m\u001b[1;33m:\u001b[0m\u001b[1;33m\u001b[0m\u001b[1;33m\u001b[0m\u001b[0m\n\u001b[0;32m    377\u001b[0m         \u001b[1;32mif\u001b[0m \u001b[0mcancellation_manager\u001b[0m \u001b[1;32mis\u001b[0m \u001b[1;32mNone\u001b[0m\u001b[1;33m:\u001b[0m\u001b[1;33m\u001b[0m\u001b[1;33m\u001b[0m\u001b[0m\n\u001b[1;32m--> 378\u001b[1;33m           outputs = execute.execute(\n\u001b[0m\u001b[0;32m    379\u001b[0m               \u001b[0mstr\u001b[0m\u001b[1;33m(\u001b[0m\u001b[0mself\u001b[0m\u001b[1;33m.\u001b[0m\u001b[0msignature\u001b[0m\u001b[1;33m.\u001b[0m\u001b[0mname\u001b[0m\u001b[1;33m)\u001b[0m\u001b[1;33m,\u001b[0m\u001b[1;33m\u001b[0m\u001b[1;33m\u001b[0m\u001b[0m\n\u001b[0;32m    380\u001b[0m               \u001b[0mnum_outputs\u001b[0m\u001b[1;33m=\u001b[0m\u001b[0mself\u001b[0m\u001b[1;33m.\u001b[0m\u001b[0m_num_outputs\u001b[0m\u001b[1;33m,\u001b[0m\u001b[1;33m\u001b[0m\u001b[1;33m\u001b[0m\u001b[0m\n",
      "\u001b[1;32m~\\anaconda3\\lib\\site-packages\\tensorflow\\python\\eager\\execute.py\u001b[0m in \u001b[0;36mquick_execute\u001b[1;34m(op_name, num_outputs, inputs, attrs, ctx, name)\u001b[0m\n\u001b[0;32m     50\u001b[0m   \u001b[1;32mtry\u001b[0m\u001b[1;33m:\u001b[0m\u001b[1;33m\u001b[0m\u001b[1;33m\u001b[0m\u001b[0m\n\u001b[0;32m     51\u001b[0m     \u001b[0mctx\u001b[0m\u001b[1;33m.\u001b[0m\u001b[0mensure_initialized\u001b[0m\u001b[1;33m(\u001b[0m\u001b[1;33m)\u001b[0m\u001b[1;33m\u001b[0m\u001b[1;33m\u001b[0m\u001b[0m\n\u001b[1;32m---> 52\u001b[1;33m     tensors = pywrap_tfe.TFE_Py_Execute(ctx._handle, device_name, op_name,\n\u001b[0m\u001b[0;32m     53\u001b[0m                                         inputs, attrs, num_outputs)\n\u001b[0;32m     54\u001b[0m   \u001b[1;32mexcept\u001b[0m \u001b[0mcore\u001b[0m\u001b[1;33m.\u001b[0m\u001b[0m_NotOkStatusException\u001b[0m \u001b[1;32mas\u001b[0m \u001b[0me\u001b[0m\u001b[1;33m:\u001b[0m\u001b[1;33m\u001b[0m\u001b[1;33m\u001b[0m\u001b[0m\n",
      "\u001b[1;31mKeyboardInterrupt\u001b[0m: "
     ]
    }
   ],
   "source": [
    "model.fit(x=training_generator,\n",
    "            steps_per_epoch=training_generator.n // training_generator.batch_size,\n",
    "            validation_data=validation_generator,\n",
    "            validation_steps=validation_generator.n // validation_generator.batch_size,\n",
    "            callbacks=[PlotLossesKeras(),cp_callback],\n",
    "            epochs=EPOCHS)\n"
   ]
  },
  {
   "cell_type": "markdown",
   "metadata": {},
   "source": [
    "# Vérification de l'enregistrement du modèle"
   ]
  },
  {
   "cell_type": "code",
   "execution_count": 250,
   "metadata": {},
   "outputs": [
    {
     "data": {
      "text/plain": [
       "['cp.h5']"
      ]
     },
     "execution_count": 250,
     "metadata": {},
     "output_type": "execute_result"
    }
   ],
   "source": [
    "os.listdir(checkpoint_dir)"
   ]
  },
  {
   "cell_type": "code",
   "execution_count": 251,
   "metadata": {},
   "outputs": [],
   "source": [
    "model = load_model(MODEL_PATH, custom_objects={\"f1\": f1, \"recall\": recall,\"precision\": precision})"
   ]
  },
  {
   "cell_type": "markdown",
   "metadata": {},
   "source": [
    "# Calcul des prédictions du modèle sur les données de test"
   ]
  },
  {
   "cell_type": "code",
   "execution_count": 252,
   "metadata": {},
   "outputs": [
    {
     "name": "stdout",
     "output_type": "stream",
     "text": [
      "200/200 [==============================] - 11s 48ms/step\n"
     ]
    }
   ],
   "source": [
    "predictions = model.predict(testing_generator,\n",
    "                              steps=TESTING_SIZE,\n",
    "                              verbose=1)"
   ]
  },
  {
   "cell_type": "markdown",
   "metadata": {},
   "source": [
    "# Mise en forme des prédictions"
   ]
  },
  {
   "cell_type": "code",
   "execution_count": 258,
   "metadata": {
    "scrolled": false
   },
   "outputs": [],
   "source": [
    "images_path = []\n",
    "predicted_titles = []\n",
    "pred_labels = []\n",
    "\n",
    "seuil_confiance = 40\n",
    "\n",
    "for prediction_index, prediction in enumerate(predictions):\n",
    "    predicted_title = []\n",
    "    for i in range(len(prediction)):\n",
    "        if prediction[i]*100 >seuil_confiance :\n",
    "            predicted_title.append(unique_labels[i] + \" %.1f\" % (prediction[i]*100) + \"%\")\n",
    "            pred_labels.append(unique_labels[i])\n",
    "    images_path.append(testing_generator.filenames[prediction_index])\n",
    "    predicted_titles.append(title)"
   ]
  },
  {
   "cell_type": "code",
   "execution_count": 259,
   "metadata": {},
   "outputs": [],
   "source": [
    "def difference(index) : \n",
    "    line = df_old.loc[df_old['image_id'] == images_path[index]]\n",
    "    sub_y = []\n",
    "    for i in line.columns[1:] :\n",
    "        sub_y.append(line[i].values[0])\n",
    "    \n",
    "    pred_y = [-1]*len(sub_y)\n",
    "    for j in range(len(unique_labels)) :\n",
    "        if unique_labels[j] in pred_labels[index]:\n",
    "            pred_y[j] = 1\n",
    "            \n",
    "    drop_features = []\n",
    "    correctness = 0\n",
    "    for i in range(len(unique_labels)) :\n",
    "        if sub_y[i] == pred_y[i]:\n",
    "            correctness += 1\n",
    "            drop_features.append(0)\n",
    "        else :\n",
    "            drop_features.append(1)\n",
    "            \n",
    "    correctness = correctness*100 / len(pred_y)\n",
    "    return correctness, drop_features"
   ]
  },
  {
   "cell_type": "markdown",
   "metadata": {},
   "source": [
    "# Calcul de proximité et d'influence"
   ]
  },
  {
   "cell_type": "code",
   "execution_count": 260,
   "metadata": {},
   "outputs": [],
   "source": [
    "accuracy = 0\n",
    "drop_features = {j:0 for j in unique_labels}\n",
    "\n",
    "for i in range(len(images_path)):\n",
    "    test = difference(i)\n",
    "    for feat in range(len(test[1])):\n",
    "        drop_features[unique_labels[feat]]+=test[1][feat]\n",
    "    accuracy += test[0]"
   ]
  },
  {
   "cell_type": "markdown",
   "metadata": {},
   "source": [
    "# Proximité et influence des labels"
   ]
  },
  {
   "cell_type": "code",
   "execution_count": 261,
   "metadata": {},
   "outputs": [
    {
     "name": "stdout",
     "output_type": "stream",
     "text": [
      "Proximité moyenne avec les labels réels :  67.4125 %\n",
      "Labels et le nombre de fois où ils étaient faux :  {'Rosy_Cheeks': 171, 'Wearing_Lipstick': 104, 'Bald': 97, 'No_Beard': 96, 'Pale_Skin': 93, 'Oval_Face': 86, 'Mustache': 71, 'Wearing_Necktie': 58, 'Straight_Hair': 55, 'Blond_Hair': 52, 'Sideburns': 51, 'Bags_Under_Eyes': 50, 'Young': 50, 'Black_Hair': 44, 'Big_Nose': 43, 'Wearing_Necklace': 43, 'Bangs': 42, 'Brown_Hair': 42, 'Bushy_Eyebrows': 35, 'Eyeglasses': 33, 'Mouth_Slightly_Open': 32, '5_o_Clock_Shadow': 27, 'Goatee': 25, 'Male': 25, 'Receding_Hairline': 25, 'Smiling': 25, 'Wavy_Hair': 23, 'High_Cheekbones': 22, 'Heavy_Makeup': 18, 'Wearing_Earrings': 17, 'Chubby': 14, 'Pointy_Nose': 11, 'Wearing_Hat': 10, 'Gray_Hair': 9, 'Big_Lips': 8}\n"
     ]
    }
   ],
   "source": [
    "print(\"Proximité moyenne avec les labels réels : \",accuracy/len(images_path),\"%\")\n",
    "print(\"Labels et le nombre de fois où ils étaient faux : \", dict(sorted(drop_features.items(), key=lambda item: item[1], reverse=True)))\n",
    "#regarder quelles sont les features qui font chuter le plus (les plus subjectives)"
   ]
  },
  {
   "cell_type": "markdown",
   "metadata": {},
   "source": [
    "# Test sur un dossier avec des images personnelles"
   ]
  },
  {
   "cell_type": "code",
   "execution_count": 262,
   "metadata": {},
   "outputs": [
    {
     "name": "stdout",
     "output_type": "stream",
     "text": [
      "Images resized !\n"
     ]
    }
   ],
   "source": [
    "\"\"\"\n",
    "f = \"test\"\n",
    "for files in os.listdir(f):\n",
    "    f_img = f+\"/\"+files\n",
    "    img = Image.open(f_img)\n",
    "    img = img.resize((224,224))\n",
    "    img.save(f_img)\n",
    "print(\"Images resized !\")\n",
    "\"\"\""
   ]
  },
  {
   "cell_type": "code",
   "execution_count": 263,
   "metadata": {},
   "outputs": [
    {
     "name": "stdout",
     "output_type": "stream",
     "text": [
      "1/1 [==============================] - 0s 82ms/step\n",
      "1/1 [==============================] - 0s 106ms/step\n"
     ]
    }
   ],
   "source": [
    "\"\"\"\n",
    "predictions =  []\n",
    "images_path = []\n",
    "labels_images = []\n",
    "best_labels = []\n",
    "seuil_confiance = 40\n",
    "\n",
    "for file in os.listdir(f):\n",
    "    f_img = f+\"/\"+file\n",
    "    \n",
    "    #load image\n",
    "    my_image = load_img(f_img, target_size=(224, 224))\n",
    "\n",
    "    #preprocess the image\n",
    "    my_image = img_to_array(my_image)\n",
    "    my_image = my_image.reshape((1, my_image.shape[0], my_image.shape[1], my_image.shape[2]))\n",
    "    my_image = preprocess_input(my_image)\n",
    "    \n",
    "    #make the prediction\n",
    "    pred_values = model.predict(my_image)\n",
    "    predictions.append(pred_values)\n",
    "    images_path.append(file)\n",
    "    \n",
    "    #enregistre les meilleurs labels\n",
    "    best = []\n",
    "    labels = []\n",
    "    \n",
    "    for i in range(len(pred_values[0])):\n",
    "        if pred_values[0][i]*100 > seuil_confiance :\n",
    "            best.append(unique_labels[i] + \" %.1f\" % (pred_values[0][i]*100) + \"%\")\n",
    "\n",
    "        labels.append(unique_labels[i] + \" %.1f\" % (pred_values[0][i]*100) + \"%\")\n",
    "        \n",
    "    best_labels.append(best)\n",
    "    labels_images.append(labels)\n",
    "\"\"\"      "
   ]
  },
  {
   "cell_type": "code",
   "execution_count": 264,
   "metadata": {},
   "outputs": [
    {
     "name": "stdout",
     "output_type": "stream",
     "text": [
      "emma_test.jpg\n",
      "Best labels : \n",
      "['Brown_Hair 42.0%', 'Heavy_Makeup 92.9%', 'High_Cheekbones 76.5%', 'Mouth_Slightly_Open 79.1%', 'No_Beard 98.3%', 'Smiling 57.2%', 'Wavy_Hair 63.0%', 'Wearing_Earrings 75.9%', 'Wearing_Lipstick 97.4%', 'Wearing_Necklace 46.5%', 'Young 79.9%']\n",
      "matthis_test.jpg\n",
      "Best labels : \n",
      "['5_o_Clock_Shadow 41.0%', 'Big_Nose 68.1%', 'Black_Hair 70.0%', 'Male 86.5%', 'No_Beard 42.7%', 'Oval_Face 46.3%', 'Smiling 54.6%', 'Young 63.5%']\n"
     ]
    }
   ],
   "source": [
    "\"\"\"\n",
    "for image in range(len(images_path)):  \n",
    "    print(images_path[image])\n",
    "    print(\"Best labels : \")\n",
    "    print(best_labels[image])\n",
    "\"\"\""
   ]
  }
 ],
 "metadata": {
  "kernelspec": {
   "display_name": "Python 3 (ipykernel)",
   "language": "python",
   "name": "python3"
  },
  "language_info": {
   "codemirror_mode": {
    "name": "ipython",
    "version": 3
   },
   "file_extension": ".py",
   "mimetype": "text/x-python",
   "name": "python",
   "nbconvert_exporter": "python",
   "pygments_lexer": "ipython3",
   "version": "3.8.8"
  }
 },
 "nbformat": 4,
 "nbformat_minor": 2
}
